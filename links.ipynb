{
 "cells": [
  {
   "cell_type": "code",
   "execution_count": 20,
   "metadata": {},
   "outputs": [],
   "source": [
    "import newspaper\n",
    "papers=[]\n",
    "polsat_paper = newspaper.build('https://tvn24.pl')\n",
    "for article in polsat_paper.articles:\n",
    "    new_paper=article.url\n",
    "    if 'tvn' in new_paper:\n",
    "        papers.append(new_paper)\n",
    "        new_list=newspaper.build(new_paper)\n",
    "        for article in new_list.articles:\n",
    "            new_paper=article.url\n",
    "            if 'tvn'in new_paper:\n",
    "                papers.append(new_paper)\n",
    "                for article in new_list.articles:\n",
    "                    new_paper=article.url\n",
    "                    if 'tvn'in new_paper:\n",
    "                        papers.append(new_paper)"
   ]
  },
  {
   "cell_type": "code",
   "execution_count": 21,
   "metadata": {},
   "outputs": [
    {
     "data": {
      "text/plain": [
       "2876009"
      ]
     },
     "execution_count": 21,
     "metadata": {},
     "output_type": "execute_result"
    }
   ],
   "source": [
    "len(papers)"
   ]
  },
  {
   "cell_type": "code",
   "execution_count": 22,
   "metadata": {},
   "outputs": [],
   "source": [
    "f=open('links_tvn.txt','w')\n",
    "for ele in papers:\n",
    "    f.write(ele+'\\n')\n",
    "f.close()"
   ]
  },
  {
   "cell_type": "code",
   "execution_count": null,
   "metadata": {},
   "outputs": [],
   "source": []
  }
 ],
 "metadata": {
  "kernelspec": {
   "display_name": "Python 3",
   "language": "python",
   "name": "python3"
  },
  "language_info": {
   "codemirror_mode": {
    "name": "ipython",
    "version": 3
   },
   "file_extension": ".py",
   "mimetype": "text/x-python",
   "name": "python",
   "nbconvert_exporter": "python",
   "pygments_lexer": "ipython3",
   "version": "3.7.4"
  }
 },
 "nbformat": 4,
 "nbformat_minor": 2
}
