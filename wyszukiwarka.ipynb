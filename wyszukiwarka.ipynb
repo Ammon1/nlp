{
 "cells": [
  {
   "cell_type": "code",
   "execution_count": 1,
   "metadata": {},
   "outputs": [],
   "source": [
    "import newspaper"
   ]
  },
  {
   "cell_type": "code",
   "execution_count": 6,
   "metadata": {},
   "outputs": [],
   "source": [
    "my_file = open('C:/Users/Kacper/git/article/links_polsatnews.txt', \"r\")\n",
    "content = my_file.read()\n",
    "links = content.split(\"\\n\")\n",
    "my_file.close()"
   ]
  },
  {
   "cell_type": "code",
   "execution_count": 8,
   "metadata": {},
   "outputs": [
    {
     "data": {
      "text/plain": [
       "197"
      ]
     },
     "execution_count": 8,
     "metadata": {},
     "output_type": "execute_result"
    }
   ],
   "source": [
    "len(links)"
   ]
  },
  {
   "cell_type": "code",
   "execution_count": null,
   "metadata": {},
   "outputs": [],
   "source": [
    "import newspaper"
   ]
  },
  {
   "cell_type": "code",
   "execution_count": 27,
   "metadata": {},
   "outputs": [
    {
     "name": "stdout",
     "output_type": "stream",
     "text": [
      "https://www.polsatnews.pl/wyszukiwarka/?text=psl&type=event&page=1\n",
      "0\n",
      "https://www.polsatnews.pl/wyszukiwarka/?text=psl&type=event&page=2\n",
      "0\n"
     ]
    }
   ],
   "source": [
    "start='https://www.polsatnews.pl/wyszukiwarka/?text='\n",
    "person='psl'\n",
    "numbers=['1','2']\n",
    "counter=0\n",
    "\n",
    "for number in numbers:\n",
    "    page=start+person+'&type=event&page='+number\n",
    "    print(page)\n",
    "    polsat_paper = newspaper.build(page)\n",
    "    print(len(polsat_paper.articles))\n",
    "    for article in polsat_paper.articles:\n",
    "            new_paper=article.url\n",
    "            if new_paper not in links:\n",
    "                links.append(new_paper)\n",
    "                counter=counter+1\n",
    "                print('art ',counter)"
   ]
  },
  {
   "cell_type": "code",
   "execution_count": 21,
   "metadata": {},
   "outputs": [
    {
     "data": {
      "text/plain": [
       "270"
      ]
     },
     "execution_count": 21,
     "metadata": {},
     "output_type": "execute_result"
    }
   ],
   "source": [
    "len(links)"
   ]
  },
  {
   "cell_type": "code",
   "execution_count": 43,
   "metadata": {},
   "outputs": [],
   "source": [
    "from bs4 import BeautifulSoup\n",
    "import requests\n",
    "from urllib.request import Request, urlopen\n",
    "import re"
   ]
  },
  {
   "cell_type": "code",
   "execution_count": 154,
   "metadata": {},
   "outputs": [],
   "source": [
    "start='https://www.polsatnews.pl/wyszukiwarka/?text='\n",
    "person='donald'"
   ]
  },
  {
   "cell_type": "code",
   "execution_count": 161,
   "metadata": {},
   "outputs": [
    {
     "name": "stdout",
     "output_type": "stream",
     "text": [
      "https://www.polsatnews.pl/wiadomosc/2020-10-03/trump-w-szpitalu-mial-problemy-z-oddychaniem/\n",
      "https://www.polsatnews.pl/wiadomosc/2020-10-02/donald-trump-z-koronawirusem-nowe-informacje-o-stanie-zdrowia/\n",
      "https://www.polsatnews.pl/wiadomosc/2020-10-02/koronawirus-najnowsze-informacje-z-polski-i-swiata-relacja0210/\n",
      "https://www.polsatnews.pl/wiadomosc/2020-10-02/koronawirus-w-bialym-domu-trump-na-kwarantannie/\n",
      "https://www.polsatnews.pl/wiadomosc/2020-10-01/konflikt-wokol-gorskiego-karabachu-trump-putin-i-macron-wydali-wspolne-oswiadczenie/\n",
      "https://www.polsatnews.pl/wiadomosc/2020-10-01/donald-trump-oglosil-sie-zwyciezca-pierwszej-debaty-prezydenckiej/\n",
      "https://www.polsatnews.pl/wiadomosc/2020-09-30/jaroslaw-kaczynski-wicepremierem-morawiecki-bedzie-duzym-wzmocnieniem/\n",
      "https://www.polsatnews.pl/wiadomosc/2020-09-30/trump-konta-biden-pierwsza-debata-prezydencka-w-usa/\n",
      "https://www.polsatnews.pl/wiadomosc/2020-09-29/szumowski-jestem-juz-zdrowy/\n",
      "https://www.polsatnews.pl/wiadomosc/2020-09-29/usa-debata-miedzy-kandydatami-na-prezydenta-usa-wsrod-tematow-sprawy-rasowe/\n",
      "https://www.polsatnews.pl/wiadomosc/2020-09-29/konflikt-wokol-gorskiego-karabachu-jest-stanowisko-onz/\n",
      "https://www.polsatnews.pl/wiadomosc/2020-09-28/sondaze-przedwyborcze-w-usa-biden-przed-trumpem/\n",
      "https://www.polsatnews.pl/wiadomosc/2020-09-28/nyt-trump-nie-placil-podatkow-od-dochodu-prezydent-to-fake-news/\n",
      "https://www.polsatnews.pl/wiadomosc/2020-09-28/usa-wzywaja-azerbejdzan-i-armenie-i-do-zaprzestania-dzialan-wojskowych/\n",
      "https://www.polsatnews.pl/wiadomosc/2020-09-27/nastepczyni-sedzi-ginsburg-trump-wskazal-kandydatke-do-sadu-najwyzszego/\n",
      "https://www.polsatnews.pl/wiadomosc/2020-09-26/ku-klux-klan-organizacja-terrorystyczna-postulat-trumpa/\n",
      "https://www.polsatnews.pl/wiadomosc/2020-09-24/wladimir-putin-zgloszony-do-pokojowej-nagrody-nobla/\n"
     ]
    }
   ],
   "source": [
    "page=start+person+'&type=event&page=10'\n",
    "page = requests.get(page,headers={'User-Agent': 'Mozilla/71.0'})\n",
    "soup = BeautifulSoup(page.content, 'html.parser')\n",
    "\n",
    "for link in soup.findAll('a', attrs={'href': re.compile(\"^https://\")}):\n",
    "        if link.get('href').startswith(\"https://www.polsatnews.pl/wiadomosc/\"):\n",
    "            if link.get('href') not in links:\n",
    "                links.append(link.get('href'))\n",
    "                print(link.get('href'))"
   ]
  },
  {
   "cell_type": "code",
   "execution_count": 164,
   "metadata": {},
   "outputs": [],
   "source": [
    "links=(list(set(links)))"
   ]
  },
  {
   "cell_type": "code",
   "execution_count": 165,
   "metadata": {},
   "outputs": [],
   "source": [
    "with open('polsatnews_links.txt', 'w') as f:\n",
    "    for item in links:\n",
    "        f.write(\"%s\\n\" % item)"
   ]
  },
  {
   "cell_type": "code",
   "execution_count": null,
   "metadata": {},
   "outputs": [],
   "source": []
  }
 ],
 "metadata": {
  "kernelspec": {
   "display_name": "Python 3",
   "language": "python",
   "name": "python3"
  },
  "language_info": {
   "codemirror_mode": {
    "name": "ipython",
    "version": 3
   },
   "file_extension": ".py",
   "mimetype": "text/x-python",
   "name": "python",
   "nbconvert_exporter": "python",
   "pygments_lexer": "ipython3",
   "version": "3.7.3"
  }
 },
 "nbformat": 4,
 "nbformat_minor": 2
}
