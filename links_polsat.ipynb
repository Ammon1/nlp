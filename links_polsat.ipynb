{
 "cells": [
  {
   "cell_type": "code",
   "execution_count": 10,
   "metadata": {},
   "outputs": [],
   "source": [
    "from googlesearch import search "
   ]
  },
  {
   "cell_type": "code",
   "execution_count": 19,
   "metadata": {},
   "outputs": [],
   "source": [
    "links = []\n",
    "with open('C:/Users/Kacper/git/article/links_polsatnews.txt', 'r') as filehandle:\n",
    "    for line in filehandle:\n",
    "        currentPlace = line[:-1]\n",
    "        links.append(currentPlace)"
   ]
  },
  {
   "cell_type": "code",
   "execution_count": 20,
   "metadata": {},
   "outputs": [
    {
     "data": {
      "text/plain": [
       "196"
      ]
     },
     "execution_count": 20,
     "metadata": {},
     "output_type": "execute_result"
    }
   ],
   "source": [
    "len(links)"
   ]
  },
  {
   "cell_type": "code",
   "execution_count": 21,
   "metadata": {},
   "outputs": [
    {
     "name": "stdout",
     "output_type": "stream",
     "text": [
      "https://www.polsatnews.pl/wiadomosc/2020-11-23/tusk-wszystkie-dzialania-pis-wpisuja-sie-w-rosyjska-strategie-rozbijania-ue/\n",
      "https://www.polsatnews.pl/wiadomosc/2020-11-19/sprawy-zaszly-zbyt-daleko-tusk-wzywa-do-zjednoczenia-opozycji/\n",
      "https://www.polsatnews.pl/wiadomosc/2020-10-21/tusk-komentuje-walke-rzadu-z-pandemia-tchorzliwa-ucieczka-caly-pis/\n",
      "https://www.polsatnews.pl/\n",
      "https://www.polsatnews.pl/wiadomosc/2020-07-07/tusk-skomentowal-sprawe-szczepionek-pewnie-dlatego-sa-przeciw/\n",
      "https://www.polsatnews.pl/wiadomosc/2020-07-05/tusk-zdradzi-co-powiedzialby-kaczynskiemu-podczas-spaceru-na-ktory-go-zaprosil/\n",
      "https://www.polsatnews.pl/wiadomosc/2020-04-28/oswiadczenie-tuska/\n",
      "https://www.polsatnews.pl/wyszukiwarka/?text=%22DONALD+TUSK%22\n",
      "https://www.polsatnews.pl/wiadomosc/2020-08-18/poziom-trolla-szumowski-o-wpisie-tuska/\n",
      "https://www.polsatnews.pl/wiadomosc/2020-02-24/odor-przestepstwa-gangu-i-mafii-tusk-o-sytuacji-dotyczacej-instytucji-panstwowych-w-polsce/\n",
      "https://www.polsatnews.pl/wiadomosc/2020-11-09/jest-ale-niemiecka-politycy-ws-szczepionki-na-covid-19/\n",
      "https://www.polsatnews.pl/raport/saryusz-wolski-kandydatem-pis-na-szefa-rady-europejskiej/\n",
      "https://www.polsatnews.pl/wiadomosc/2020-03-16/tusk-who-nie-prowadzi-kampanii-wyborczej-mozna-im-wierzyc/\n",
      "https://www.polsatnews.pl/wiadomosc/2020-01-15/jak-rzucic-palenie-z-donaldem-tuskiem/\n",
      "https://www.polsatnews.pl/wiadomosc/2020-05-12/wydarzenia-i-opinie-radoslaw-sikorski-i-krzysztof-bosak/\n",
      "https://www.polsatnews.pl/wiadomosc/2020-11-07/polscy-politycy-gratuluja-bidenowi/\n",
      "https://www.polsatnews.pl/wiadomosc/2019-11-05/donald-tusk-zdecydowal-ws-startu-w-wyborach-prezydenckich/\n",
      "https://www.polsatnews.pl/wiadomosc/2020-06-19/sto-dni-trwala-nasza-rozlaka-dziadek-tusk-wrocil-do-domu/\n",
      "https://www.polsatnews.pl/wiadomosc/2020-06-04/tusk-dla-polsat-news-morawiecki-mowil-mi-co-sadzi-o-rzadach-pis/\n",
      "https://www.polsatnews.pl/wiadomosc/2019-12-22/jesli-nic-sie-nie-zmieni-to-kolejne-wybory-tez-beda-przegrane-tusk-o-opozycji/\n",
      "https://www.polsatnews.pl/wiadomosc/2019-11-21/ludzie-mnie-znaja-chce-to-wykorzystac-donald-tusk-o-nowym-ruchu-politycznym/\n",
      "https://www.polsatnews.pl/wiadomosc/2020-07-01/tusk-zwraca-sie-do-wyborcow-konfederacji-najkrotszy-i-jednoczesnie-najglupszy-list/\n",
      "https://www.polsatnews.pl/wyszukiwarka/?text=%22TUSK%22\n",
      "https://www.polsatnews.pl/wiadomosc/2019-11-06/tusk-o-decyzji-ws-wyborow-prezydenckich-mnie-tez-jest-troche-smutno/\n",
      "https://www.polsatnews.pl/wiadomosc/2020-02-26/koronawirus-w-kampanii-wyborczej-polityka-na-ostro-o-2000/\n",
      "https://www.polsatnews.pl/wiadomosc/2020-09-07/grozil-tuskowi-pochwalal-zabojstwo-adamowicza-jest-wyrok/\n",
      "https://www.polsatnews.pl/wiadomosc/2019-10-30/polityka-na-ostro-morawska-stanecka-bosak-slugocki-kowalski/\n",
      "https://www.polsatnews.pl/wyszukiwarka/?text=%22DONALD+TUSK%22&type=vod&page=8\n",
      "https://www.polsatnews.pl/wyszukiwarka/?text=%22DONALD+TUSK%22&type=event&page=8\n"
     ]
    }
   ],
   "source": [
    "query = \"www.polsatnews.pl wiadomości kaczyński\"\n",
    "for j in search(query, tld=\"pl\", num=100,stop=None, pause=2): \n",
    "    if j.startswith(\"https://www.polsatnews.pl\"):\n",
    "        print(j) \n",
    "        links.append(j+'\\n')"
   ]
  },
  {
   "cell_type": "code",
   "execution_count": 22,
   "metadata": {},
   "outputs": [
    {
     "data": {
      "text/plain": [
       "225"
      ]
     },
     "execution_count": 22,
     "metadata": {},
     "output_type": "execute_result"
    }
   ],
   "source": [
    "len(links)"
   ]
  },
  {
   "cell_type": "code",
   "execution_count": 23,
   "metadata": {},
   "outputs": [
    {
     "data": {
      "text/plain": [
       "225"
      ]
     },
     "execution_count": 23,
     "metadata": {},
     "output_type": "execute_result"
    }
   ],
   "source": [
    "len(list(set(links)))"
   ]
  }
 ],
 "metadata": {
  "kernelspec": {
   "display_name": "Python 3",
   "language": "python",
   "name": "python3"
  },
  "language_info": {
   "codemirror_mode": {
    "name": "ipython",
    "version": 3
   },
   "file_extension": ".py",
   "mimetype": "text/x-python",
   "name": "python",
   "nbconvert_exporter": "python",
   "pygments_lexer": "ipython3",
   "version": "3.7.3"
  }
 },
 "nbformat": 4,
 "nbformat_minor": 2
}
