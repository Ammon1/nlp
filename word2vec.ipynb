{
 "cells": [
  {
   "cell_type": "code",
   "execution_count": 1,
   "metadata": {},
   "outputs": [],
   "source": [
    "import os\n",
    "import pandas as pd\n",
    "import re\n",
    "from time import time  # To time our operations\n",
    "from collections import defaultdict  # For word frequency\n",
    "import spacy  # For preprocessing\n",
    "import en_core_web_lg"
   ]
  },
  {
   "cell_type": "code",
   "execution_count": 2,
   "metadata": {},
   "outputs": [],
   "source": [
    "nlp = en_core_web_lg.load()"
   ]
  },
  {
   "cell_type": "code",
   "execution_count": 3,
   "metadata": {},
   "outputs": [],
   "source": [
    "from gensim.models.phrases import Phrases, Phraser\n",
    "import logging  # Setting up the loggings to monitor gensim\n",
    "logging.basicConfig(format=\"%(levelname)s - %(asctime)s: %(message)s\", datefmt= '%H:%M:%S', level=logging.INFO)"
   ]
  },
  {
   "cell_type": "code",
   "execution_count": 4,
   "metadata": {},
   "outputs": [],
   "source": [
    "def cleaning(doc):\n",
    "    txt = [token.lemma_ for token in doc if not token.is_stop]\n",
    "    if len(txt) > 2:\n",
    "        return ' '.join(txt)"
   ]
  },
  {
   "cell_type": "code",
   "execution_count": 5,
   "metadata": {},
   "outputs": [
    {
     "name": "stderr",
     "output_type": "stream",
     "text": [
      "INFO - 15:45:29: NumExpr defaulting to 8 threads.\n"
     ]
    },
    {
     "name": "stdout",
     "output_type": "stream",
     "text": [
      "Time to clean up everything: 7.65 mins\n"
     ]
    }
   ],
   "source": [
    "file=open('text_polsat.txt','r')\n",
    "content =file.read()\n",
    "content_list = content.split(\",\")\n",
    "file.close()\n",
    "\n",
    "df=pd.DataFrame(content_list)\n",
    "\n",
    "brief_cleaning = (re.sub(\"[^A-Za-z']+\", ' ', str(row)).lower() for row in df[0])\n",
    "\n",
    "t = time()\n",
    "txt = [cleaning(doc) for doc in nlp.pipe(brief_cleaning, batch_size=5000, n_threads=-1)]\n",
    "print('Time to clean up everything: {} mins'.format(round((time() - t) / 60, 2)))\n",
    "\n",
    "df_clean = pd.DataFrame({'clean': txt})\n",
    "df_clean = df_clean.dropna().drop_duplicates()"
   ]
  },
  {
   "cell_type": "code",
   "execution_count": 6,
   "metadata": {},
   "outputs": [],
   "source": [
    "sent = [row.split() for row in df_clean['clean']]"
   ]
  },
  {
   "cell_type": "code",
   "execution_count": 7,
   "metadata": {},
   "outputs": [
    {
     "name": "stderr",
     "output_type": "stream",
     "text": [
      "INFO - 15:45:29: collecting all words and their counts\n",
      "INFO - 15:45:29: PROGRESS: at sentence #0, processed 0 words and 0 word types\n",
      "INFO - 15:45:30: PROGRESS: at sentence #10000, processed 110202 words and 75097 word types\n",
      "INFO - 15:45:31: PROGRESS: at sentence #20000, processed 223489 words and 133270 word types\n",
      "INFO - 15:45:32: PROGRESS: at sentence #30000, processed 335856 words and 184178 word types\n",
      "INFO - 15:45:32: collected 196436 word types from a corpus of 364667 words (unigram + bigrams) and 32481 sentences\n",
      "INFO - 15:45:32: using 196436 counts as vocab in Phrases<0 vocab, min_count=30, threshold=10.0, max_vocab_size=40000000>\n"
     ]
    }
   ],
   "source": [
    "phrases = Phrases(sent, min_count=30, progress_per=10000)"
   ]
  },
  {
   "cell_type": "code",
   "execution_count": 8,
   "metadata": {},
   "outputs": [
    {
     "name": "stderr",
     "output_type": "stream",
     "text": [
      "INFO - 15:45:32: source_vocab length 196436\n",
      "INFO - 15:45:40: Phraser built with 276 phrasegrams\n"
     ]
    }
   ],
   "source": [
    "bigram = Phraser(phrases)"
   ]
  },
  {
   "cell_type": "code",
   "execution_count": 9,
   "metadata": {},
   "outputs": [],
   "source": [
    "sentences = bigram[sent]"
   ]
  },
  {
   "cell_type": "code",
   "execution_count": 10,
   "metadata": {},
   "outputs": [
    {
     "data": {
      "text/plain": [
       "15386"
      ]
     },
     "execution_count": 10,
     "metadata": {},
     "output_type": "execute_result"
    }
   ],
   "source": [
    "word_freq = defaultdict(int)\n",
    "for sent in sentences:\n",
    "    for i in sent:\n",
    "        word_freq[i] += 1\n",
    "len(word_freq)"
   ]
  },
  {
   "cell_type": "code",
   "execution_count": 11,
   "metadata": {},
   "outputs": [
    {
     "data": {
      "text/plain": [
       "['quot',\n",
       " 'say',\n",
       " 's',\n",
       " 'poland',\n",
       " 'people',\n",
       " 'president',\n",
       " 'year',\n",
       " 'government',\n",
       " 'polish',\n",
       " 'state',\n",
       " 'add',\n",
       " 'video',\n",
       " 'protest',\n",
       " 'time',\n",
       " 'prime_minister',\n",
       " 'pis',\n",
       " 'accord',\n",
       " 'want',\n",
       " 'minister',\n",
       " 'work']"
      ]
     },
     "execution_count": 11,
     "metadata": {},
     "output_type": "execute_result"
    }
   ],
   "source": [
    "sorted(word_freq, key=word_freq.get, reverse=True)[:20]"
   ]
  },
  {
   "cell_type": "code",
   "execution_count": 12,
   "metadata": {},
   "outputs": [],
   "source": [
    "import multiprocessing\n",
    "\n",
    "from gensim.models import Word2Vec"
   ]
  },
  {
   "cell_type": "code",
   "execution_count": 13,
   "metadata": {},
   "outputs": [],
   "source": [
    "cores = multiprocessing.cpu_count()"
   ]
  },
  {
   "cell_type": "code",
   "execution_count": 14,
   "metadata": {},
   "outputs": [],
   "source": [
    "w2v_model = Word2Vec(min_count=20,\n",
    "                     window=2,\n",
    "                     size=300,\n",
    "                     sample=6e-5, \n",
    "                     alpha=0.03, \n",
    "                     min_alpha=0.0007, \n",
    "                     negative=20,\n",
    "                     workers=cores-1)"
   ]
  },
  {
   "cell_type": "code",
   "execution_count": 15,
   "metadata": {},
   "outputs": [
    {
     "name": "stderr",
     "output_type": "stream",
     "text": [
      "INFO - 15:45:45: collecting all words and their counts\n",
      "INFO - 15:45:45: PROGRESS: at sentence #0, processed 0 words, keeping 0 word types\n",
      "INFO - 15:45:46: PROGRESS: at sentence #10000, processed 103941 words, keeping 8996 word types\n",
      "INFO - 15:45:47: PROGRESS: at sentence #20000, processed 210882 words, keeping 12201 word types\n",
      "INFO - 15:45:49: PROGRESS: at sentence #30000, processed 317021 words, keeping 14847 word types\n",
      "INFO - 15:45:49: collected 15386 word types from a corpus of 344177 raw words and 32481 sentences\n",
      "INFO - 15:45:49: Loading a fresh vocabulary\n",
      "INFO - 15:45:49: effective_min_count=20 retains 2679 unique words (17% of original 15386, drops 12707)\n",
      "INFO - 15:45:49: effective_min_count=20 leaves 298098 word corpus (86% of original 344177, drops 46079)\n",
      "INFO - 15:45:49: deleting the raw counts dictionary of 15386 items\n",
      "INFO - 15:45:49: sample=6e-05 downsamples 1454 most-common words\n",
      "INFO - 15:45:49: downsampling leaves estimated 136491 word corpus (45.8% of prior 298098)\n",
      "INFO - 15:45:49: estimated required memory for 2679 words and 300 dimensions: 7769100 bytes\n",
      "INFO - 15:45:49: resetting layer weights\n"
     ]
    },
    {
     "name": "stdout",
     "output_type": "stream",
     "text": [
      "Time to build vocab: 0.11 mins\n"
     ]
    }
   ],
   "source": [
    "t = time()\n",
    "\n",
    "w2v_model.build_vocab(sentences, progress_per=10000)\n",
    "\n",
    "print('Time to build vocab: {} mins'.format(round((time() - t) / 60, 2)))"
   ]
  },
  {
   "cell_type": "code",
   "execution_count": 16,
   "metadata": {},
   "outputs": [
    {
     "name": "stderr",
     "output_type": "stream",
     "text": [
      "INFO - 15:45:51: training model with 7 workers on 2679 vocabulary and 300 features, using sg=0 hs=0 sample=6e-05 negative=20 window=2\n",
      "INFO - 15:45:52: EPOCH 1 - PROGRESS: at 17.68% examples, 23480 words/s, in_qsize 0, out_qsize 0\n",
      "INFO - 15:45:53: EPOCH 1 - PROGRESS: at 41.16% examples, 26780 words/s, in_qsize 0, out_qsize 0\n",
      "INFO - 15:45:54: EPOCH 1 - PROGRESS: at 61.29% examples, 27006 words/s, in_qsize 0, out_qsize 0\n",
      "INFO - 15:45:55: EPOCH 1 - PROGRESS: at 78.90% examples, 25444 words/s, in_qsize 0, out_qsize 0\n",
      "INFO - 15:45:57: worker thread finished; awaiting finish of 6 more threads\n",
      "INFO - 15:45:57: worker thread finished; awaiting finish of 5 more threads\n",
      "INFO - 15:45:57: worker thread finished; awaiting finish of 4 more threads\n",
      "INFO - 15:45:57: worker thread finished; awaiting finish of 3 more threads\n",
      "INFO - 15:45:57: worker thread finished; awaiting finish of 2 more threads\n",
      "INFO - 15:45:57: EPOCH 1 - PROGRESS: at 97.19% examples, 24925 words/s, in_qsize 1, out_qsize 1\n",
      "INFO - 15:45:57: worker thread finished; awaiting finish of 1 more threads\n",
      "INFO - 15:45:57: worker thread finished; awaiting finish of 0 more threads\n",
      "INFO - 15:45:57: EPOCH - 1 : training on 344177 raw words (136376 effective words) took 5.3s, 25617 effective words/s\n",
      "INFO - 15:45:58: EPOCH 2 - PROGRESS: at 11.89% examples, 13100 words/s, in_qsize 0, out_qsize 0\n",
      "INFO - 15:45:59: EPOCH 2 - PROGRESS: at 20.66% examples, 12361 words/s, in_qsize 0, out_qsize 0\n",
      "INFO - 15:46:00: EPOCH 2 - PROGRESS: at 32.49% examples, 12750 words/s, in_qsize 0, out_qsize 0\n",
      "INFO - 15:46:01: EPOCH 2 - PROGRESS: at 44.09% examples, 12815 words/s, in_qsize 0, out_qsize 0\n",
      "INFO - 15:46:02: EPOCH 2 - PROGRESS: at 61.29% examples, 14697 words/s, in_qsize 0, out_qsize 0\n",
      "INFO - 15:46:03: EPOCH 2 - PROGRESS: at 78.90% examples, 15670 words/s, in_qsize 0, out_qsize 0\n",
      "INFO - 15:46:04: worker thread finished; awaiting finish of 6 more threads\n",
      "INFO - 15:46:04: worker thread finished; awaiting finish of 5 more threads\n",
      "INFO - 15:46:04: worker thread finished; awaiting finish of 4 more threads\n",
      "INFO - 15:46:04: worker thread finished; awaiting finish of 3 more threads\n",
      "INFO - 15:46:04: worker thread finished; awaiting finish of 2 more threads\n",
      "INFO - 15:46:04: EPOCH 2 - PROGRESS: at 98.76% examples, 17158 words/s, in_qsize 1, out_qsize 1\n",
      "INFO - 15:46:04: worker thread finished; awaiting finish of 1 more threads\n",
      "INFO - 15:46:04: worker thread finished; awaiting finish of 0 more threads\n",
      "INFO - 15:46:04: EPOCH - 2 : training on 344177 raw words (136572 effective words) took 7.9s, 17377 effective words/s\n",
      "INFO - 15:46:06: EPOCH 3 - PROGRESS: at 20.66% examples, 26732 words/s, in_qsize 0, out_qsize 0\n",
      "INFO - 15:46:07: EPOCH 3 - PROGRESS: at 44.09% examples, 28596 words/s, in_qsize 0, out_qsize 0\n",
      "INFO - 15:46:08: EPOCH 3 - PROGRESS: at 61.29% examples, 27022 words/s, in_qsize 0, out_qsize 0\n",
      "INFO - 15:46:09: EPOCH 3 - PROGRESS: at 81.75% examples, 26929 words/s, in_qsize 0, out_qsize 0\n",
      "INFO - 15:46:09: worker thread finished; awaiting finish of 6 more threads\n",
      "INFO - 15:46:09: worker thread finished; awaiting finish of 5 more threads\n",
      "INFO - 15:46:09: worker thread finished; awaiting finish of 4 more threads\n",
      "INFO - 15:46:09: worker thread finished; awaiting finish of 3 more threads\n",
      "INFO - 15:46:09: worker thread finished; awaiting finish of 2 more threads\n",
      "INFO - 15:46:09: worker thread finished; awaiting finish of 1 more threads\n",
      "INFO - 15:46:09: worker thread finished; awaiting finish of 0 more threads\n",
      "INFO - 15:46:09: EPOCH - 3 : training on 344177 raw words (136572 effective words) took 5.0s, 27579 effective words/s\n",
      "INFO - 15:46:11: EPOCH 4 - PROGRESS: at 17.68% examples, 22986 words/s, in_qsize 0, out_qsize 0\n",
      "INFO - 15:46:12: EPOCH 4 - PROGRESS: at 38.39% examples, 23307 words/s, in_qsize 0, out_qsize 0\n",
      "INFO - 15:46:13: EPOCH 4 - PROGRESS: at 58.39% examples, 23606 words/s, in_qsize 0, out_qsize 0\n",
      "INFO - 15:46:14: EPOCH 4 - PROGRESS: at 76.08% examples, 22966 words/s, in_qsize 0, out_qsize 0\n",
      "INFO - 15:46:15: EPOCH 4 - PROGRESS: at 95.95% examples, 23326 words/s, in_qsize 0, out_qsize 0\n",
      "INFO - 15:46:15: worker thread finished; awaiting finish of 6 more threads\n",
      "INFO - 15:46:15: worker thread finished; awaiting finish of 5 more threads\n",
      "INFO - 15:46:15: worker thread finished; awaiting finish of 4 more threads\n",
      "INFO - 15:46:15: worker thread finished; awaiting finish of 3 more threads\n",
      "INFO - 15:46:15: worker thread finished; awaiting finish of 2 more threads\n",
      "INFO - 15:46:15: worker thread finished; awaiting finish of 1 more threads\n",
      "INFO - 15:46:15: worker thread finished; awaiting finish of 0 more threads\n",
      "INFO - 15:46:15: EPOCH - 4 : training on 344177 raw words (136403 effective words) took 5.8s, 23647 effective words/s\n",
      "INFO - 15:46:16: EPOCH 5 - PROGRESS: at 17.68% examples, 23228 words/s, in_qsize 0, out_qsize 0\n",
      "INFO - 15:46:17: EPOCH 5 - PROGRESS: at 32.49% examples, 21082 words/s, in_qsize 0, out_qsize 0\n",
      "INFO - 15:46:18: EPOCH 5 - PROGRESS: at 49.62% examples, 21469 words/s, in_qsize 0, out_qsize 0\n",
      "INFO - 15:46:19: EPOCH 5 - PROGRESS: at 61.29% examples, 20024 words/s, in_qsize 0, out_qsize 0\n",
      "INFO - 15:46:20: EPOCH 5 - PROGRESS: at 78.90% examples, 20607 words/s, in_qsize 0, out_qsize 0\n",
      "INFO - 15:46:21: worker thread finished; awaiting finish of 6 more threads\n",
      "INFO - 15:46:21: worker thread finished; awaiting finish of 5 more threads\n",
      "INFO - 15:46:21: worker thread finished; awaiting finish of 4 more threads\n",
      "INFO - 15:46:21: worker thread finished; awaiting finish of 3 more threads\n",
      "INFO - 15:46:21: worker thread finished; awaiting finish of 2 more threads\n",
      "INFO - 15:46:21: EPOCH 5 - PROGRESS: at 97.19% examples, 21324 words/s, in_qsize 1, out_qsize 1\n",
      "INFO - 15:46:21: worker thread finished; awaiting finish of 1 more threads\n",
      "INFO - 15:46:21: worker thread finished; awaiting finish of 0 more threads\n",
      "INFO - 15:46:22: EPOCH - 5 : training on 344177 raw words (136493 effective words) took 6.2s, 21940 effective words/s\n",
      "INFO - 15:46:23: EPOCH 6 - PROGRESS: at 17.68% examples, 22506 words/s, in_qsize 0, out_qsize 0\n",
      "INFO - 15:46:24: EPOCH 6 - PROGRESS: at 41.16% examples, 25542 words/s, in_qsize 0, out_qsize 0\n",
      "INFO - 15:46:25: EPOCH 6 - PROGRESS: at 61.29% examples, 25975 words/s, in_qsize 0, out_qsize 0\n",
      "INFO - 15:46:26: EPOCH 6 - PROGRESS: at 78.90% examples, 24837 words/s, in_qsize 0, out_qsize 0\n",
      "INFO - 15:46:27: EPOCH 6 - PROGRESS: at 95.95% examples, 24295 words/s, in_qsize 0, out_qsize 0\n",
      "INFO - 15:46:27: worker thread finished; awaiting finish of 6 more threads\n",
      "INFO - 15:46:27: worker thread finished; awaiting finish of 5 more threads\n",
      "INFO - 15:46:27: worker thread finished; awaiting finish of 4 more threads\n",
      "INFO - 15:46:27: worker thread finished; awaiting finish of 3 more threads\n",
      "INFO - 15:46:27: worker thread finished; awaiting finish of 2 more threads\n",
      "INFO - 15:46:27: worker thread finished; awaiting finish of 1 more threads\n",
      "INFO - 15:46:27: worker thread finished; awaiting finish of 0 more threads\n",
      "INFO - 15:46:27: EPOCH - 6 : training on 344177 raw words (136442 effective words) took 5.6s, 24446 effective words/s\n",
      "INFO - 15:46:28: EPOCH 7 - PROGRESS: at 14.87% examples, 18787 words/s, in_qsize 0, out_qsize 0\n",
      "INFO - 15:46:29: EPOCH 7 - PROGRESS: at 32.49% examples, 20566 words/s, in_qsize 0, out_qsize 0\n",
      "INFO - 15:46:30: EPOCH 7 - PROGRESS: at 46.94% examples, 19484 words/s, in_qsize 0, out_qsize 0\n",
      "INFO - 15:46:32: EPOCH 7 - PROGRESS: at 61.29% examples, 18855 words/s, in_qsize 0, out_qsize 0\n",
      "INFO - 15:46:33: EPOCH 7 - PROGRESS: at 81.75% examples, 20086 words/s, in_qsize 0, out_qsize 0\n",
      "INFO - 15:46:33: worker thread finished; awaiting finish of 6 more threads\n",
      "INFO - 15:46:33: worker thread finished; awaiting finish of 5 more threads\n",
      "INFO - 15:46:33: worker thread finished; awaiting finish of 4 more threads\n",
      "INFO - 15:46:33: worker thread finished; awaiting finish of 3 more threads\n",
      "INFO - 15:46:33: worker thread finished; awaiting finish of 2 more threads\n",
      "INFO - 15:46:33: worker thread finished; awaiting finish of 1 more threads\n",
      "INFO - 15:46:33: worker thread finished; awaiting finish of 0 more threads\n",
      "INFO - 15:46:34: EPOCH - 7 : training on 344177 raw words (136562 effective words) took 6.4s, 21455 effective words/s\n",
      "INFO - 15:46:35: EPOCH 8 - PROGRESS: at 17.68% examples, 23416 words/s, in_qsize 0, out_qsize 0\n"
     ]
    },
    {
     "name": "stderr",
     "output_type": "stream",
     "text": [
      "INFO - 15:46:36: EPOCH 8 - PROGRESS: at 38.39% examples, 23209 words/s, in_qsize 0, out_qsize 0\n",
      "INFO - 15:46:37: EPOCH 8 - PROGRESS: at 58.39% examples, 24373 words/s, in_qsize 0, out_qsize 0\n",
      "INFO - 15:46:38: EPOCH 8 - PROGRESS: at 78.90% examples, 25033 words/s, in_qsize 0, out_qsize 0\n",
      "INFO - 15:46:39: worker thread finished; awaiting finish of 6 more threads\n",
      "INFO - 15:46:39: worker thread finished; awaiting finish of 5 more threads\n",
      "INFO - 15:46:39: worker thread finished; awaiting finish of 4 more threads\n",
      "INFO - 15:46:39: worker thread finished; awaiting finish of 3 more threads\n",
      "INFO - 15:46:39: worker thread finished; awaiting finish of 2 more threads\n",
      "INFO - 15:46:39: EPOCH 8 - PROGRESS: at 97.19% examples, 24775 words/s, in_qsize 1, out_qsize 1\n",
      "INFO - 15:46:39: worker thread finished; awaiting finish of 1 more threads\n",
      "INFO - 15:46:39: worker thread finished; awaiting finish of 0 more threads\n",
      "INFO - 15:46:39: EPOCH - 8 : training on 344177 raw words (136340 effective words) took 5.3s, 25493 effective words/s\n",
      "INFO - 15:46:40: EPOCH 9 - PROGRESS: at 20.66% examples, 26311 words/s, in_qsize 0, out_qsize 0\n",
      "INFO - 15:46:41: EPOCH 9 - PROGRESS: at 44.09% examples, 28408 words/s, in_qsize 0, out_qsize 0\n",
      "INFO - 15:46:42: EPOCH 9 - PROGRESS: at 67.36% examples, 28297 words/s, in_qsize 0, out_qsize 0\n",
      "INFO - 15:46:43: EPOCH 9 - PROGRESS: at 90.36% examples, 28668 words/s, in_qsize 0, out_qsize 0\n",
      "INFO - 15:46:44: worker thread finished; awaiting finish of 6 more threads\n",
      "INFO - 15:46:44: worker thread finished; awaiting finish of 5 more threads\n",
      "INFO - 15:46:44: worker thread finished; awaiting finish of 4 more threads\n",
      "INFO - 15:46:44: worker thread finished; awaiting finish of 3 more threads\n",
      "INFO - 15:46:44: worker thread finished; awaiting finish of 2 more threads\n",
      "INFO - 15:46:44: worker thread finished; awaiting finish of 1 more threads\n",
      "INFO - 15:46:44: worker thread finished; awaiting finish of 0 more threads\n",
      "INFO - 15:46:44: EPOCH - 9 : training on 344177 raw words (136477 effective words) took 4.7s, 28974 effective words/s\n",
      "INFO - 15:46:45: EPOCH 10 - PROGRESS: at 20.66% examples, 27589 words/s, in_qsize 0, out_qsize 0\n",
      "INFO - 15:46:46: EPOCH 10 - PROGRESS: at 44.09% examples, 28313 words/s, in_qsize 0, out_qsize 0\n",
      "INFO - 15:46:47: EPOCH 10 - PROGRESS: at 67.36% examples, 29021 words/s, in_qsize 0, out_qsize 0\n",
      "INFO - 15:46:48: EPOCH 10 - PROGRESS: at 90.36% examples, 29132 words/s, in_qsize 0, out_qsize 0\n",
      "INFO - 15:46:48: worker thread finished; awaiting finish of 6 more threads\n",
      "INFO - 15:46:48: worker thread finished; awaiting finish of 5 more threads\n",
      "INFO - 15:46:48: worker thread finished; awaiting finish of 4 more threads\n",
      "INFO - 15:46:48: worker thread finished; awaiting finish of 3 more threads\n",
      "INFO - 15:46:48: worker thread finished; awaiting finish of 2 more threads\n",
      "INFO - 15:46:48: worker thread finished; awaiting finish of 1 more threads\n",
      "INFO - 15:46:48: worker thread finished; awaiting finish of 0 more threads\n",
      "INFO - 15:46:48: EPOCH - 10 : training on 344177 raw words (136387 effective words) took 4.6s, 29486 effective words/s\n",
      "INFO - 15:46:49: EPOCH 11 - PROGRESS: at 20.66% examples, 26891 words/s, in_qsize 0, out_qsize 0\n",
      "INFO - 15:46:50: EPOCH 11 - PROGRESS: at 44.09% examples, 28794 words/s, in_qsize 0, out_qsize 0\n",
      "INFO - 15:46:51: EPOCH 11 - PROGRESS: at 67.36% examples, 29151 words/s, in_qsize 0, out_qsize 0\n",
      "INFO - 15:46:52: EPOCH 11 - PROGRESS: at 90.36% examples, 29432 words/s, in_qsize 0, out_qsize 0\n",
      "INFO - 15:46:53: worker thread finished; awaiting finish of 6 more threads\n",
      "INFO - 15:46:53: worker thread finished; awaiting finish of 5 more threads\n",
      "INFO - 15:46:53: worker thread finished; awaiting finish of 4 more threads\n",
      "INFO - 15:46:53: worker thread finished; awaiting finish of 3 more threads\n",
      "INFO - 15:46:53: worker thread finished; awaiting finish of 2 more threads\n",
      "INFO - 15:46:53: worker thread finished; awaiting finish of 1 more threads\n",
      "INFO - 15:46:53: worker thread finished; awaiting finish of 0 more threads\n",
      "INFO - 15:46:53: EPOCH - 11 : training on 344177 raw words (136184 effective words) took 4.5s, 29949 effective words/s\n",
      "INFO - 15:46:54: EPOCH 12 - PROGRESS: at 20.66% examples, 27127 words/s, in_qsize 0, out_qsize 0\n",
      "INFO - 15:46:55: EPOCH 12 - PROGRESS: at 44.09% examples, 28862 words/s, in_qsize 1, out_qsize 0\n",
      "INFO - 15:46:56: EPOCH 12 - PROGRESS: at 64.45% examples, 28350 words/s, in_qsize 0, out_qsize 0\n",
      "INFO - 15:46:57: EPOCH 12 - PROGRESS: at 90.36% examples, 29086 words/s, in_qsize 0, out_qsize 0\n",
      "INFO - 15:46:57: worker thread finished; awaiting finish of 6 more threads\n",
      "INFO - 15:46:57: worker thread finished; awaiting finish of 5 more threads\n",
      "INFO - 15:46:57: worker thread finished; awaiting finish of 4 more threads\n",
      "INFO - 15:46:57: worker thread finished; awaiting finish of 3 more threads\n",
      "INFO - 15:46:57: worker thread finished; awaiting finish of 2 more threads\n",
      "INFO - 15:46:57: worker thread finished; awaiting finish of 1 more threads\n",
      "INFO - 15:46:57: worker thread finished; awaiting finish of 0 more threads\n",
      "INFO - 15:46:57: EPOCH - 12 : training on 344177 raw words (136672 effective words) took 4.6s, 29646 effective words/s\n",
      "INFO - 15:46:58: EPOCH 13 - PROGRESS: at 20.66% examples, 27512 words/s, in_qsize 0, out_qsize 0\n",
      "INFO - 15:47:00: EPOCH 13 - PROGRESS: at 44.09% examples, 28788 words/s, in_qsize 1, out_qsize 0\n",
      "INFO - 15:47:01: EPOCH 13 - PROGRESS: at 67.36% examples, 29626 words/s, in_qsize 0, out_qsize 0\n",
      "INFO - 15:47:02: EPOCH 13 - PROGRESS: at 90.36% examples, 29529 words/s, in_qsize 0, out_qsize 0\n",
      "INFO - 15:47:02: worker thread finished; awaiting finish of 6 more threads\n",
      "INFO - 15:47:02: worker thread finished; awaiting finish of 5 more threads\n",
      "INFO - 15:47:02: worker thread finished; awaiting finish of 4 more threads\n",
      "INFO - 15:47:02: worker thread finished; awaiting finish of 3 more threads\n",
      "INFO - 15:47:02: worker thread finished; awaiting finish of 2 more threads\n",
      "INFO - 15:47:02: worker thread finished; awaiting finish of 1 more threads\n",
      "INFO - 15:47:02: worker thread finished; awaiting finish of 0 more threads\n",
      "INFO - 15:47:02: EPOCH - 13 : training on 344177 raw words (136461 effective words) took 4.6s, 29903 effective words/s\n",
      "INFO - 15:47:03: EPOCH 14 - PROGRESS: at 20.66% examples, 26351 words/s, in_qsize 0, out_qsize 0\n",
      "INFO - 15:47:04: EPOCH 14 - PROGRESS: at 44.09% examples, 28332 words/s, in_qsize 0, out_qsize 0\n",
      "INFO - 15:47:05: EPOCH 14 - PROGRESS: at 67.36% examples, 29083 words/s, in_qsize 0, out_qsize 0\n",
      "INFO - 15:47:06: EPOCH 14 - PROGRESS: at 90.36% examples, 29252 words/s, in_qsize 0, out_qsize 0\n",
      "INFO - 15:47:07: worker thread finished; awaiting finish of 6 more threads\n",
      "INFO - 15:47:07: worker thread finished; awaiting finish of 5 more threads\n",
      "INFO - 15:47:07: worker thread finished; awaiting finish of 4 more threads\n",
      "INFO - 15:47:07: worker thread finished; awaiting finish of 3 more threads\n",
      "INFO - 15:47:07: worker thread finished; awaiting finish of 2 more threads\n",
      "INFO - 15:47:07: worker thread finished; awaiting finish of 1 more threads\n",
      "INFO - 15:47:07: worker thread finished; awaiting finish of 0 more threads\n",
      "INFO - 15:47:07: EPOCH - 14 : training on 344177 raw words (136354 effective words) took 4.6s, 29887 effective words/s\n",
      "INFO - 15:47:08: EPOCH 15 - PROGRESS: at 20.66% examples, 27699 words/s, in_qsize 0, out_qsize 0\n",
      "INFO - 15:47:09: EPOCH 15 - PROGRESS: at 44.09% examples, 28623 words/s, in_qsize 0, out_qsize 0\n",
      "INFO - 15:47:10: EPOCH 15 - PROGRESS: at 67.36% examples, 28829 words/s, in_qsize 0, out_qsize 0\n",
      "INFO - 15:47:11: EPOCH 15 - PROGRESS: at 90.36% examples, 29260 words/s, in_qsize 0, out_qsize 0\n",
      "INFO - 15:47:11: worker thread finished; awaiting finish of 6 more threads\n",
      "INFO - 15:47:11: worker thread finished; awaiting finish of 5 more threads\n",
      "INFO - 15:47:11: worker thread finished; awaiting finish of 4 more threads\n",
      "INFO - 15:47:11: worker thread finished; awaiting finish of 3 more threads\n",
      "INFO - 15:47:11: worker thread finished; awaiting finish of 2 more threads\n",
      "INFO - 15:47:11: worker thread finished; awaiting finish of 1 more threads\n",
      "INFO - 15:47:11: worker thread finished; awaiting finish of 0 more threads\n",
      "INFO - 15:47:11: EPOCH - 15 : training on 344177 raw words (136596 effective words) took 4.6s, 29760 effective words/s\n"
     ]
    },
    {
     "name": "stderr",
     "output_type": "stream",
     "text": [
      "INFO - 15:47:12: EPOCH 16 - PROGRESS: at 23.69% examples, 25308 words/s, in_qsize 0, out_qsize 0\n",
      "INFO - 15:47:14: EPOCH 16 - PROGRESS: at 46.94% examples, 27646 words/s, in_qsize 0, out_qsize 0\n",
      "INFO - 15:47:15: EPOCH 16 - PROGRESS: at 70.23% examples, 28540 words/s, in_qsize 0, out_qsize 0\n",
      "INFO - 15:47:16: EPOCH 16 - PROGRESS: at 93.14% examples, 28808 words/s, in_qsize 0, out_qsize 0\n",
      "INFO - 15:47:16: worker thread finished; awaiting finish of 6 more threads\n",
      "INFO - 15:47:16: worker thread finished; awaiting finish of 5 more threads\n",
      "INFO - 15:47:16: worker thread finished; awaiting finish of 4 more threads\n",
      "INFO - 15:47:16: worker thread finished; awaiting finish of 3 more threads\n",
      "INFO - 15:47:16: worker thread finished; awaiting finish of 2 more threads\n",
      "INFO - 15:47:16: worker thread finished; awaiting finish of 1 more threads\n",
      "INFO - 15:47:16: worker thread finished; awaiting finish of 0 more threads\n",
      "INFO - 15:47:16: EPOCH - 16 : training on 344177 raw words (136333 effective words) took 4.7s, 29252 effective words/s\n",
      "INFO - 15:47:17: EPOCH 17 - PROGRESS: at 20.66% examples, 27019 words/s, in_qsize 0, out_qsize 0\n",
      "INFO - 15:47:18: EPOCH 17 - PROGRESS: at 44.09% examples, 28768 words/s, in_qsize 0, out_qsize 0\n",
      "INFO - 15:47:19: EPOCH 17 - PROGRESS: at 67.36% examples, 29599 words/s, in_qsize 0, out_qsize 0\n",
      "INFO - 15:47:20: EPOCH 17 - PROGRESS: at 90.36% examples, 30036 words/s, in_qsize 0, out_qsize 0\n",
      "INFO - 15:47:20: worker thread finished; awaiting finish of 6 more threads\n",
      "INFO - 15:47:20: worker thread finished; awaiting finish of 5 more threads\n",
      "INFO - 15:47:20: worker thread finished; awaiting finish of 4 more threads\n",
      "INFO - 15:47:20: worker thread finished; awaiting finish of 3 more threads\n",
      "INFO - 15:47:20: worker thread finished; awaiting finish of 2 more threads\n",
      "INFO - 15:47:20: worker thread finished; awaiting finish of 1 more threads\n",
      "INFO - 15:47:20: worker thread finished; awaiting finish of 0 more threads\n",
      "INFO - 15:47:20: EPOCH - 17 : training on 344177 raw words (136217 effective words) took 4.4s, 30655 effective words/s\n",
      "INFO - 15:47:21: EPOCH 18 - PROGRESS: at 20.66% examples, 25655 words/s, in_qsize 1, out_qsize 0\n",
      "INFO - 15:47:23: EPOCH 18 - PROGRESS: at 46.94% examples, 29037 words/s, in_qsize 0, out_qsize 0\n",
      "INFO - 15:47:24: EPOCH 18 - PROGRESS: at 70.23% examples, 29547 words/s, in_qsize 0, out_qsize 0\n",
      "INFO - 15:47:25: EPOCH 18 - PROGRESS: at 93.14% examples, 29168 words/s, in_qsize 0, out_qsize 0\n",
      "INFO - 15:47:25: worker thread finished; awaiting finish of 6 more threads\n",
      "INFO - 15:47:25: worker thread finished; awaiting finish of 5 more threads\n",
      "INFO - 15:47:25: worker thread finished; awaiting finish of 4 more threads\n",
      "INFO - 15:47:25: worker thread finished; awaiting finish of 3 more threads\n",
      "INFO - 15:47:25: worker thread finished; awaiting finish of 2 more threads\n",
      "INFO - 15:47:25: worker thread finished; awaiting finish of 1 more threads\n",
      "INFO - 15:47:25: worker thread finished; awaiting finish of 0 more threads\n",
      "INFO - 15:47:25: EPOCH - 18 : training on 344177 raw words (136171 effective words) took 4.6s, 29787 effective words/s\n",
      "INFO - 15:47:26: EPOCH 19 - PROGRESS: at 20.66% examples, 27102 words/s, in_qsize 0, out_qsize 0\n",
      "INFO - 15:47:27: EPOCH 19 - PROGRESS: at 46.94% examples, 29797 words/s, in_qsize 0, out_qsize 0\n",
      "INFO - 15:47:28: EPOCH 19 - PROGRESS: at 70.23% examples, 29712 words/s, in_qsize 0, out_qsize 0\n",
      "INFO - 15:47:29: EPOCH 19 - PROGRESS: at 93.14% examples, 29404 words/s, in_qsize 0, out_qsize 0\n",
      "INFO - 15:47:30: worker thread finished; awaiting finish of 6 more threads\n",
      "INFO - 15:47:30: worker thread finished; awaiting finish of 5 more threads\n",
      "INFO - 15:47:30: worker thread finished; awaiting finish of 4 more threads\n",
      "INFO - 15:47:30: worker thread finished; awaiting finish of 3 more threads\n",
      "INFO - 15:47:30: worker thread finished; awaiting finish of 2 more threads\n",
      "INFO - 15:47:30: worker thread finished; awaiting finish of 1 more threads\n",
      "INFO - 15:47:30: worker thread finished; awaiting finish of 0 more threads\n",
      "INFO - 15:47:30: EPOCH - 19 : training on 344177 raw words (137129 effective words) took 4.6s, 29675 effective words/s\n",
      "INFO - 15:47:31: EPOCH 20 - PROGRESS: at 23.69% examples, 28045 words/s, in_qsize 0, out_qsize 0\n",
      "INFO - 15:47:32: EPOCH 20 - PROGRESS: at 46.94% examples, 29150 words/s, in_qsize 0, out_qsize 0\n",
      "INFO - 15:47:33: EPOCH 20 - PROGRESS: at 73.12% examples, 29996 words/s, in_qsize 0, out_qsize 0\n",
      "INFO - 15:47:34: EPOCH 20 - PROGRESS: at 95.95% examples, 29924 words/s, in_qsize 1, out_qsize 0\n",
      "INFO - 15:47:34: worker thread finished; awaiting finish of 6 more threads\n",
      "INFO - 15:47:34: worker thread finished; awaiting finish of 5 more threads\n",
      "INFO - 15:47:34: worker thread finished; awaiting finish of 4 more threads\n",
      "INFO - 15:47:34: worker thread finished; awaiting finish of 3 more threads\n",
      "INFO - 15:47:34: worker thread finished; awaiting finish of 2 more threads\n",
      "INFO - 15:47:34: worker thread finished; awaiting finish of 1 more threads\n",
      "INFO - 15:47:34: worker thread finished; awaiting finish of 0 more threads\n",
      "INFO - 15:47:34: EPOCH - 20 : training on 344177 raw words (136723 effective words) took 4.5s, 30228 effective words/s\n",
      "INFO - 15:47:35: EPOCH 21 - PROGRESS: at 20.66% examples, 26074 words/s, in_qsize 0, out_qsize 0\n",
      "INFO - 15:47:36: EPOCH 21 - PROGRESS: at 46.94% examples, 28893 words/s, in_qsize 0, out_qsize 0\n",
      "INFO - 15:47:37: EPOCH 21 - PROGRESS: at 70.23% examples, 28707 words/s, in_qsize 0, out_qsize 0\n",
      "INFO - 15:47:39: EPOCH 21 - PROGRESS: at 93.14% examples, 29042 words/s, in_qsize 0, out_qsize 0\n",
      "INFO - 15:47:39: worker thread finished; awaiting finish of 6 more threads\n",
      "INFO - 15:47:39: worker thread finished; awaiting finish of 5 more threads\n",
      "INFO - 15:47:39: worker thread finished; awaiting finish of 4 more threads\n",
      "INFO - 15:47:39: worker thread finished; awaiting finish of 3 more threads\n",
      "INFO - 15:47:39: worker thread finished; awaiting finish of 2 more threads\n",
      "INFO - 15:47:39: worker thread finished; awaiting finish of 1 more threads\n",
      "INFO - 15:47:39: worker thread finished; awaiting finish of 0 more threads\n",
      "INFO - 15:47:39: EPOCH - 21 : training on 344177 raw words (136111 effective words) took 4.6s, 29354 effective words/s\n",
      "INFO - 15:47:40: EPOCH 22 - PROGRESS: at 20.66% examples, 26976 words/s, in_qsize 0, out_qsize 0\n",
      "INFO - 15:47:41: EPOCH 22 - PROGRESS: at 44.09% examples, 27910 words/s, in_qsize 0, out_qsize 0\n",
      "INFO - 15:47:42: EPOCH 22 - PROGRESS: at 64.45% examples, 27420 words/s, in_qsize 0, out_qsize 0\n",
      "INFO - 15:47:43: EPOCH 22 - PROGRESS: at 84.55% examples, 26817 words/s, in_qsize 0, out_qsize 0\n",
      "INFO - 15:47:44: worker thread finished; awaiting finish of 6 more threads\n",
      "INFO - 15:47:44: worker thread finished; awaiting finish of 5 more threads\n",
      "INFO - 15:47:44: worker thread finished; awaiting finish of 4 more threads\n",
      "INFO - 15:47:44: worker thread finished; awaiting finish of 3 more threads\n",
      "INFO - 15:47:44: worker thread finished; awaiting finish of 2 more threads\n",
      "INFO - 15:47:44: worker thread finished; awaiting finish of 1 more threads\n",
      "INFO - 15:47:44: worker thread finished; awaiting finish of 0 more threads\n",
      "INFO - 15:47:44: EPOCH - 22 : training on 344177 raw words (136573 effective words) took 5.0s, 27244 effective words/s\n",
      "INFO - 15:47:45: EPOCH 23 - PROGRESS: at 17.68% examples, 23278 words/s, in_qsize 0, out_qsize 0\n",
      "INFO - 15:47:46: EPOCH 23 - PROGRESS: at 41.16% examples, 24987 words/s, in_qsize 0, out_qsize 0\n",
      "INFO - 15:47:47: EPOCH 23 - PROGRESS: at 61.29% examples, 24692 words/s, in_qsize 0, out_qsize 0\n",
      "INFO - 15:47:48: EPOCH 23 - PROGRESS: at 81.75% examples, 24710 words/s, in_qsize 0, out_qsize 0\n",
      "INFO - 15:47:49: worker thread finished; awaiting finish of 6 more threads\n",
      "INFO - 15:47:49: worker thread finished; awaiting finish of 5 more threads\n",
      "INFO - 15:47:49: worker thread finished; awaiting finish of 4 more threads\n",
      "INFO - 15:47:49: worker thread finished; awaiting finish of 3 more threads\n",
      "INFO - 15:47:49: worker thread finished; awaiting finish of 2 more threads\n",
      "INFO - 15:47:49: worker thread finished; awaiting finish of 1 more threads\n",
      "INFO - 15:47:49: worker thread finished; awaiting finish of 0 more threads\n",
      "INFO - 15:47:49: EPOCH - 23 : training on 344177 raw words (136688 effective words) took 5.3s, 26028 effective words/s\n"
     ]
    },
    {
     "name": "stderr",
     "output_type": "stream",
     "text": [
      "INFO - 15:47:50: EPOCH 24 - PROGRESS: at 20.66% examples, 26172 words/s, in_qsize 0, out_qsize 0\n",
      "INFO - 15:47:51: EPOCH 24 - PROGRESS: at 44.09% examples, 28469 words/s, in_qsize 0, out_qsize 0\n",
      "INFO - 15:47:52: EPOCH 24 - PROGRESS: at 67.36% examples, 29097 words/s, in_qsize 0, out_qsize 0\n",
      "INFO - 15:47:53: EPOCH 24 - PROGRESS: at 90.36% examples, 29427 words/s, in_qsize 0, out_qsize 0\n",
      "INFO - 15:47:54: worker thread finished; awaiting finish of 6 more threads\n",
      "INFO - 15:47:54: worker thread finished; awaiting finish of 5 more threads\n",
      "INFO - 15:47:54: worker thread finished; awaiting finish of 4 more threads\n",
      "INFO - 15:47:54: worker thread finished; awaiting finish of 3 more threads\n",
      "INFO - 15:47:54: worker thread finished; awaiting finish of 2 more threads\n",
      "INFO - 15:47:54: worker thread finished; awaiting finish of 1 more threads\n",
      "INFO - 15:47:54: worker thread finished; awaiting finish of 0 more threads\n",
      "INFO - 15:47:54: EPOCH - 24 : training on 344177 raw words (136613 effective words) took 4.5s, 30098 effective words/s\n",
      "INFO - 15:47:55: EPOCH 25 - PROGRESS: at 23.69% examples, 28536 words/s, in_qsize 0, out_qsize 0\n",
      "INFO - 15:47:56: EPOCH 25 - PROGRESS: at 46.94% examples, 29220 words/s, in_qsize 0, out_qsize 0\n",
      "INFO - 15:47:57: EPOCH 25 - PROGRESS: at 70.23% examples, 29797 words/s, in_qsize 0, out_qsize 0\n",
      "INFO - 15:47:58: EPOCH 25 - PROGRESS: at 93.14% examples, 29978 words/s, in_qsize 0, out_qsize 0\n",
      "INFO - 15:47:58: worker thread finished; awaiting finish of 6 more threads\n",
      "INFO - 15:47:58: worker thread finished; awaiting finish of 5 more threads\n",
      "INFO - 15:47:58: worker thread finished; awaiting finish of 4 more threads\n",
      "INFO - 15:47:58: worker thread finished; awaiting finish of 3 more threads\n",
      "INFO - 15:47:58: worker thread finished; awaiting finish of 2 more threads\n",
      "INFO - 15:47:58: worker thread finished; awaiting finish of 1 more threads\n",
      "INFO - 15:47:58: worker thread finished; awaiting finish of 0 more threads\n",
      "INFO - 15:47:58: EPOCH - 25 : training on 344177 raw words (136698 effective words) took 4.5s, 30394 effective words/s\n",
      "INFO - 15:47:59: EPOCH 26 - PROGRESS: at 23.69% examples, 28448 words/s, in_qsize 0, out_qsize 0\n",
      "INFO - 15:48:00: EPOCH 26 - PROGRESS: at 46.94% examples, 29194 words/s, in_qsize 0, out_qsize 0\n",
      "INFO - 15:48:01: EPOCH 26 - PROGRESS: at 70.23% examples, 29378 words/s, in_qsize 0, out_qsize 0\n",
      "INFO - 15:48:02: EPOCH 26 - PROGRESS: at 93.14% examples, 29756 words/s, in_qsize 1, out_qsize 0\n",
      "INFO - 15:48:03: worker thread finished; awaiting finish of 6 more threads\n",
      "INFO - 15:48:03: worker thread finished; awaiting finish of 5 more threads\n",
      "INFO - 15:48:03: worker thread finished; awaiting finish of 4 more threads\n",
      "INFO - 15:48:03: worker thread finished; awaiting finish of 3 more threads\n",
      "INFO - 15:48:03: worker thread finished; awaiting finish of 2 more threads\n",
      "INFO - 15:48:03: worker thread finished; awaiting finish of 1 more threads\n",
      "INFO - 15:48:03: worker thread finished; awaiting finish of 0 more threads\n",
      "INFO - 15:48:03: EPOCH - 26 : training on 344177 raw words (136897 effective words) took 4.5s, 30258 effective words/s\n",
      "INFO - 15:48:04: EPOCH 27 - PROGRESS: at 17.68% examples, 23301 words/s, in_qsize 0, out_qsize 0\n",
      "INFO - 15:48:05: EPOCH 27 - PROGRESS: at 41.16% examples, 26900 words/s, in_qsize 1, out_qsize 0\n",
      "INFO - 15:48:06: EPOCH 27 - PROGRESS: at 64.45% examples, 28413 words/s, in_qsize 0, out_qsize 0\n",
      "INFO - 15:48:07: EPOCH 27 - PROGRESS: at 87.43% examples, 28593 words/s, in_qsize 0, out_qsize 0\n",
      "INFO - 15:48:07: worker thread finished; awaiting finish of 6 more threads\n",
      "INFO - 15:48:07: worker thread finished; awaiting finish of 5 more threads\n",
      "INFO - 15:48:07: worker thread finished; awaiting finish of 4 more threads\n",
      "INFO - 15:48:07: worker thread finished; awaiting finish of 3 more threads\n",
      "INFO - 15:48:07: worker thread finished; awaiting finish of 2 more threads\n",
      "INFO - 15:48:07: worker thread finished; awaiting finish of 1 more threads\n",
      "INFO - 15:48:07: worker thread finished; awaiting finish of 0 more threads\n",
      "INFO - 15:48:07: EPOCH - 27 : training on 344177 raw words (136471 effective words) took 4.7s, 29221 effective words/s\n",
      "INFO - 15:48:09: EPOCH 28 - PROGRESS: at 23.69% examples, 27937 words/s, in_qsize 0, out_qsize 0\n",
      "INFO - 15:48:10: EPOCH 28 - PROGRESS: at 46.94% examples, 28132 words/s, in_qsize 0, out_qsize 0\n",
      "INFO - 15:48:11: EPOCH 28 - PROGRESS: at 70.23% examples, 28443 words/s, in_qsize 0, out_qsize 0\n",
      "INFO - 15:48:12: EPOCH 28 - PROGRESS: at 93.14% examples, 28989 words/s, in_qsize 0, out_qsize 0\n",
      "INFO - 15:48:12: worker thread finished; awaiting finish of 6 more threads\n",
      "INFO - 15:48:12: worker thread finished; awaiting finish of 5 more threads\n",
      "INFO - 15:48:12: worker thread finished; awaiting finish of 4 more threads\n",
      "INFO - 15:48:12: worker thread finished; awaiting finish of 3 more threads\n",
      "INFO - 15:48:12: worker thread finished; awaiting finish of 2 more threads\n",
      "INFO - 15:48:12: worker thread finished; awaiting finish of 1 more threads\n",
      "INFO - 15:48:12: worker thread finished; awaiting finish of 0 more threads\n",
      "INFO - 15:48:12: EPOCH - 28 : training on 344177 raw words (136175 effective words) took 4.6s, 29414 effective words/s\n",
      "INFO - 15:48:13: EPOCH 29 - PROGRESS: at 20.66% examples, 27432 words/s, in_qsize 0, out_qsize 0\n",
      "INFO - 15:48:14: EPOCH 29 - PROGRESS: at 44.09% examples, 28647 words/s, in_qsize 0, out_qsize 0\n",
      "INFO - 15:48:15: EPOCH 29 - PROGRESS: at 67.36% examples, 29022 words/s, in_qsize 0, out_qsize 0\n",
      "INFO - 15:48:16: EPOCH 29 - PROGRESS: at 90.36% examples, 29201 words/s, in_qsize 0, out_qsize 0\n",
      "INFO - 15:48:17: worker thread finished; awaiting finish of 6 more threads\n",
      "INFO - 15:48:17: worker thread finished; awaiting finish of 5 more threads\n",
      "INFO - 15:48:17: worker thread finished; awaiting finish of 4 more threads\n",
      "INFO - 15:48:17: worker thread finished; awaiting finish of 3 more threads\n",
      "INFO - 15:48:17: worker thread finished; awaiting finish of 2 more threads\n",
      "INFO - 15:48:17: worker thread finished; awaiting finish of 1 more threads\n",
      "INFO - 15:48:17: worker thread finished; awaiting finish of 0 more threads\n",
      "INFO - 15:48:17: EPOCH - 29 : training on 344177 raw words (137042 effective words) took 4.6s, 29715 effective words/s\n",
      "INFO - 15:48:18: EPOCH 30 - PROGRESS: at 20.66% examples, 25960 words/s, in_qsize 0, out_qsize 0\n",
      "INFO - 15:48:19: EPOCH 30 - PROGRESS: at 44.09% examples, 26645 words/s, in_qsize 0, out_qsize 0\n",
      "INFO - 15:48:20: EPOCH 30 - PROGRESS: at 67.36% examples, 27458 words/s, in_qsize 0, out_qsize 0\n",
      "INFO - 15:48:21: EPOCH 30 - PROGRESS: at 87.43% examples, 26719 words/s, in_qsize 0, out_qsize 0\n",
      "INFO - 15:48:22: worker thread finished; awaiting finish of 6 more threads\n",
      "INFO - 15:48:22: worker thread finished; awaiting finish of 5 more threads\n",
      "INFO - 15:48:22: worker thread finished; awaiting finish of 4 more threads\n",
      "INFO - 15:48:22: worker thread finished; awaiting finish of 3 more threads\n",
      "INFO - 15:48:22: worker thread finished; awaiting finish of 2 more threads\n",
      "INFO - 15:48:22: worker thread finished; awaiting finish of 1 more threads\n",
      "INFO - 15:48:22: worker thread finished; awaiting finish of 0 more threads\n",
      "INFO - 15:48:22: EPOCH - 30 : training on 344177 raw words (136632 effective words) took 5.0s, 27431 effective words/s\n",
      "INFO - 15:48:22: training on a 10325310 raw words (4095364 effective words) took 150.4s, 27224 effective words/s\n"
     ]
    },
    {
     "name": "stdout",
     "output_type": "stream",
     "text": [
      "Time to train the model: 2.51 mins\n"
     ]
    }
   ],
   "source": [
    "t = time()\n",
    "\n",
    "w2v_model.train(sentences, total_examples=w2v_model.corpus_count, epochs=30, report_delay=1)\n",
    "\n",
    "print('Time to train the model: {} mins'.format(round((time() - t) / 60, 2)))"
   ]
  },
  {
   "cell_type": "code",
   "execution_count": 17,
   "metadata": {},
   "outputs": [
    {
     "name": "stderr",
     "output_type": "stream",
     "text": [
      "INFO - 15:48:22: precomputing L2-norms of word weight vectors\n"
     ]
    }
   ],
   "source": [
    "w2v_model.init_sims(replace=True)"
   ]
  },
  {
   "cell_type": "code",
   "execution_count": 151,
   "metadata": {},
   "outputs": [
    {
     "data": {
      "text/plain": [
       "[('kowalski', 0.9052737355232239),\n",
       " ('janusz', 0.8421617746353149),\n",
       " ('debata', 0.7645596861839294),\n",
       " ('monika', 0.7636910676956177),\n",
       " ('dnia', 0.7579102516174316),\n",
       " ('reply', 0.7191236019134521),\n",
       " ('breakfast', 0.7112119197845459),\n",
       " ('ask', 0.7102408409118652),\n",
       " ('mr', 0.7088824510574341),\n",
       " ('braun', 0.7026896476745605)]"
      ]
     },
     "execution_count": 151,
     "metadata": {},
     "output_type": "execute_result"
    }
   ],
   "source": [
    "w2v_model.wv.most_similar(positive=[\"korwin_mikke\"])"
   ]
  },
  {
   "cell_type": "code",
   "execution_count": 19,
   "metadata": {},
   "outputs": [],
   "source": [
    "import numpy as np\n",
    "import matplotlib.pyplot as plt\n",
    "%matplotlib inline\n",
    " \n",
    "import seaborn as sns\n",
    "sns.set_style(\"darkgrid\")\n",
    "\n",
    "from sklearn.decomposition import PCA\n",
    "from sklearn.manifold import TSNE"
   ]
  },
  {
   "cell_type": "code",
   "execution_count": 20,
   "metadata": {},
   "outputs": [],
   "source": [
    "def tsnescatterplot(model, word, list_names):\n",
    "    \"\"\" Plot in seaborn the results from the t-SNE dimensionality reduction algorithm of the vectors of a query word,\n",
    "    its list of most similar words, and a list of words.\n",
    "    \"\"\"\n",
    "    arrays = np.empty((0, 300), dtype='f')\n",
    "    word_labels = [word]\n",
    "    color_list  = ['red']\n",
    "\n",
    "    # adds the vector of the query word\n",
    "    arrays = np.append(arrays, model.wv.__getitem__([word]), axis=0)\n",
    "    \n",
    "    # gets list of most similar words\n",
    "    close_words = model.wv.most_similar([word])\n",
    "    \n",
    "    # adds the vector for each of the closest words to the array\n",
    "    for wrd_score in close_words:\n",
    "        wrd_vector = model.wv.__getitem__([wrd_score[0]])\n",
    "        word_labels.append(wrd_score[0])\n",
    "        color_list.append('blue')\n",
    "        arrays = np.append(arrays, wrd_vector, axis=0)\n",
    "    \n",
    "    # adds the vector for each of the words from list_names to the array\n",
    "    for wrd in list_names:\n",
    "        wrd_vector = model.wv.__getitem__([wrd])\n",
    "        word_labels.append(wrd)\n",
    "        color_list.append('green')\n",
    "        arrays = np.append(arrays, wrd_vector, axis=0)\n",
    "        \n",
    "    # Reduces the dimensionality from 300 to 50 dimensions with PCA\n",
    "    reduc = PCA(n_components=18).fit_transform(arrays)#zmiana z 50  na 18\n",
    "    \n",
    "    # Finds t-SNE coordinates for 2 dimensions\n",
    "    np.set_printoptions(suppress=True)\n",
    "    \n",
    "    Y = TSNE(n_components=2, random_state=0, perplexity=15).fit_transform(reduc)\n",
    "    \n",
    "    # Sets everything up to plot\n",
    "    df = pd.DataFrame({'x': [x for x in Y[:, 0]],\n",
    "                       'y': [y for y in Y[:, 1]],\n",
    "                       'words': word_labels,\n",
    "                       'color': color_list})\n",
    "    \n",
    "    fig, _ = plt.subplots()\n",
    "    fig.set_size_inches(9, 9)\n",
    "    \n",
    "    # Basic plot\n",
    "    p1 = sns.regplot(data=df,\n",
    "                     x=\"x\",\n",
    "                     y=\"y\",\n",
    "                     fit_reg=False,\n",
    "                     marker=\"o\",\n",
    "                     scatter_kws={'s': 40,\n",
    "                                  'facecolors': df['color']\n",
    "                                 }\n",
    "                    )\n",
    "    \n",
    "    # Adds annotations one by one with a loop\n",
    "    for line in range(0, df.shape[0]):\n",
    "         p1.text(df[\"x\"][line],\n",
    "                 df['y'][line],\n",
    "                 '  ' + df[\"words\"][line].title(),\n",
    "                 horizontalalignment='left',\n",
    "                 verticalalignment='bottom', size='medium',\n",
    "                 color=df['color'][line],\n",
    "                 weight='normal'\n",
    "                ).set_size(15)\n",
    "\n",
    "    \n",
    "    plt.xlim(Y[:, 0].min()-50, Y[:, 0].max()+50)\n",
    "    plt.ylim(Y[:, 1].min()-50, Y[:, 1].max()+50)\n",
    "            \n",
    "    plt.title('t-SNE visualization for {}'.format(word.title()))"
   ]
  },
  {
   "cell_type": "code",
   "execution_count": 155,
   "metadata": {},
   "outputs": [
    {
     "data": {
      "image/png": "[encoded data removed]",
      "text/plain": [
       "<Figure size 648x648 with 1 Axes>"
      ]
     },
     "metadata": {},
     "output_type": "display_data"
    }
   ],
   "source": [
    "tsnescatterplot(w2v_model, 'korwin_mikke', ['tusk', 'kaczynski', 'budka', 'ho_ownia', 'kukiz', 'kosiniak_kamysz','bosak','church'])"
   ]
  },
  {
   "cell_type": "code",
   "execution_count": 22,
   "metadata": {},
   "outputs": [],
   "source": [
    "import nltk"
   ]
  },
  {
   "cell_type": "code",
   "execution_count": 23,
   "metadata": {},
   "outputs": [
    {
     "name": "stderr",
     "output_type": "stream",
     "text": [
      "[nltk_data] Downloading package vader_lexicon to\n",
      "[nltk_data]     C:\\Users\\Lenovo\\AppData\\Roaming\\nltk_data...\n"
     ]
    },
    {
     "data": {
      "text/plain": [
       "True"
      ]
     },
     "execution_count": 23,
     "metadata": {},
     "output_type": "execute_result"
    }
   ],
   "source": [
    "nltk.download('vader_lexicon')"
   ]
  },
  {
   "cell_type": "code",
   "execution_count": 24,
   "metadata": {},
   "outputs": [],
   "source": [
    "from nltk.sentiment.vader import SentimentIntensityAnalyzer"
   ]
  },
  {
   "cell_type": "code",
   "execution_count": 25,
   "metadata": {},
   "outputs": [],
   "source": [
    "sid=SentimentIntensityAnalyzerntimentIntensityAnalyzer()"
   ]
  },
  {
   "cell_type": "code",
   "execution_count": 177,
   "metadata": {},
   "outputs": [
    {
     "data": {
      "text/plain": [
       "{'neg': 0.0, 'neu': 0.938, 'pos': 0.062, 'compound': 0.1531}"
      ]
     },
     "execution_count": 177,
     "metadata": {},
     "output_type": "execute_result"
    }
   ],
   "source": [
    "sid.polarity_scores(df_clean.iloc[0,0])"
   ]
  },
  {
   "cell_type": "code",
   "execution_count": 45,
   "metadata": {},
   "outputs": [],
   "source": [
    "def sent(x):\n",
    "    return sid.polarity_scores(x.iloc[0])"
   ]
  },
  {
   "cell_type": "code",
   "execution_count": 171,
   "metadata": {},
   "outputs": [],
   "source": [
    "df_clean = df.dropna().drop_duplicates()"
   ]
  },
  {
   "cell_type": "code",
   "execution_count": 172,
   "metadata": {},
   "outputs": [],
   "source": [
    "df_clean['sent']=df_clean.apply(lambda x: sent(x),axis=1)"
   ]
  },
  {
   "cell_type": "code",
   "execution_count": 173,
   "metadata": {},
   "outputs": [],
   "source": [
    "df_clean['neg'] = df_clean['sent'].apply(lambda x: x.get('neg'))\n",
    "df_clean['pos'] = df_clean['sent'].apply(lambda x: x.get('pos'))\n",
    "df_clean['compound'] = df_clean['sent'].apply(lambda x: x.get('compound'))"
   ]
  },
  {
   "cell_type": "code",
   "execution_count": 181,
   "metadata": {},
   "outputs": [
    {
     "data": {
      "text/html": [
       "<div>\n",
       "<style scoped>\n",
       "    .dataframe tbody tr th:only-of-type {\n",
       "        vertical-align: middle;\n",
       "    }\n",
       "\n",
       "    .dataframe tbody tr th {\n",
       "        vertical-align: top;\n",
       "    }\n",
       "\n",
       "    .dataframe thead th {\n",
       "        text-align: right;\n",
       "    }\n",
       "</style>\n",
       "<table border=\"1\" class=\"dataframe\">\n",
       "  <thead>\n",
       "    <tr style=\"text-align: right;\">\n",
       "      <th></th>\n",
       "      <th>0</th>\n",
       "      <th>sent</th>\n",
       "      <th>neg</th>\n",
       "      <th>pos</th>\n",
       "      <th>compound</th>\n",
       "      <th>clean</th>\n",
       "    </tr>\n",
       "  </thead>\n",
       "  <tbody>\n",
       "    <tr>\n",
       "      <th>0</th>\n",
       "      <td>Thread\\n- This is not a right-left division. T...</td>\n",
       "      <td>{'neg': 0.0, 'neu': 0.938, 'pos': 0.062, 'comp...</td>\n",
       "      <td>0.000</td>\n",
       "      <td>0.062</td>\n",
       "      <td>0.1531</td>\n",
       "      <td>Thread\\n- This is not a right-left division. T...</td>\n",
       "    </tr>\n",
       "    <tr>\n",
       "      <th>1</th>\n",
       "      <td>the head of government announced a veto on th...</td>\n",
       "      <td>{'neg': 0.072, 'neu': 0.928, 'pos': 0.0, 'comp...</td>\n",
       "      <td>0.072</td>\n",
       "      <td>0.000</td>\n",
       "      <td>-0.2716</td>\n",
       "      <td>the head of government announced a veto on th...</td>\n",
       "    </tr>\n",
       "    <tr>\n",
       "      <th>2</th>\n",
       "      <td>difficult year and it will be possible to lea...</td>\n",
       "      <td>{'neg': 0.169, 'neu': 0.731, 'pos': 0.1, 'comp...</td>\n",
       "      <td>0.169</td>\n",
       "      <td>0.100</td>\n",
       "      <td>-0.1280</td>\n",
       "      <td>difficult year and it will be possible to lea...</td>\n",
       "    </tr>\n",
       "    <tr>\n",
       "      <th>3</th>\n",
       "      <td>if we pursue a policy solely in the interests...</td>\n",
       "      <td>{'neg': 0.0, 'neu': 0.846, 'pos': 0.154, 'comp...</td>\n",
       "      <td>0.000</td>\n",
       "      <td>0.154</td>\n",
       "      <td>0.2500</td>\n",
       "      <td>if we pursue a policy solely in the interests...</td>\n",
       "    </tr>\n",
       "    <tr>\n",
       "      <th>4</th>\n",
       "      <td>the Polish nation</td>\n",
       "      <td>{'neg': 0.0, 'neu': 1.0, 'pos': 0.0, 'compound...</td>\n",
       "      <td>0.000</td>\n",
       "      <td>0.000</td>\n",
       "      <td>0.0000</td>\n",
       "      <td>the Polish nation</td>\n",
       "    </tr>\n",
       "  </tbody>\n",
       "</table>\n",
       "</div>"
      ],
      "text/plain": [
       "                                                   0  \\\n",
       "0  Thread\\n- This is not a right-left division. T...   \n",
       "1   the head of government announced a veto on th...   \n",
       "2   difficult year and it will be possible to lea...   \n",
       "3   if we pursue a policy solely in the interests...   \n",
       "4                                  the Polish nation   \n",
       "\n",
       "                                                sent    neg    pos  compound  \\\n",
       "0  {'neg': 0.0, 'neu': 0.938, 'pos': 0.062, 'comp...  0.000  0.062    0.1531   \n",
       "1  {'neg': 0.072, 'neu': 0.928, 'pos': 0.0, 'comp...  0.072  0.000   -0.2716   \n",
       "2  {'neg': 0.169, 'neu': 0.731, 'pos': 0.1, 'comp...  0.169  0.100   -0.1280   \n",
       "3  {'neg': 0.0, 'neu': 0.846, 'pos': 0.154, 'comp...  0.000  0.154    0.2500   \n",
       "4  {'neg': 0.0, 'neu': 1.0, 'pos': 0.0, 'compound...  0.000  0.000    0.0000   \n",
       "\n",
       "                                               clean  \n",
       "0  Thread\\n- This is not a right-left division. T...  \n",
       "1   the head of government announced a veto on th...  \n",
       "2   difficult year and it will be possible to lea...  \n",
       "3   if we pursue a policy solely in the interests...  \n",
       "4                                  the Polish nation  "
      ]
     },
     "execution_count": 181,
     "metadata": {},
     "output_type": "execute_result"
    }
   ],
   "source": [
    "df_clean.head()"
   ]
  },
  {
   "cell_type": "code",
   "execution_count": 180,
   "metadata": {},
   "outputs": [],
   "source": [
    "df_clean['clean']=df_clean[0]"
   ]
  },
  {
   "cell_type": "code",
   "execution_count": 202,
   "metadata": {},
   "outputs": [],
   "source": [
    "def tusk(x):\n",
    "    if ' tusk ' in x.lower():\n",
    "        return 1\n",
    "    else:\n",
    "        return 0\n",
    "    \n",
    "def kaczynski(x):\n",
    "    if ' kaczynski ' in x.lower() or ' kaczy_ski ' in x.lower():\n",
    "        return 1\n",
    "    else:\n",
    "        return 0\n",
    "    \n",
    "def pis(x):\n",
    "    if ' law_justice ' in x.lower() or ' pis ' in x.lower():\n",
    "        return 1\n",
    "    else:\n",
    "        return 0\n",
    "    \n",
    "def po(x):\n",
    "    if ' civic_platform ' in x.lower() or ' po ' in x.lower():\n",
    "        return 1\n",
    "    else:\n",
    "        return 0\n",
    "    \n",
    "def confederation(x):\n",
    "    if ' confederation ' in x.lower():\n",
    "        return 1\n",
    "    else:\n",
    "        return 0\n",
    "    \n",
    "def korwin(x):\n",
    "    if ' korwin_mikke ' in x.lower():\n",
    "        return 1\n",
    "    else:\n",
    "        return 0\n",
    "    \n",
    "    "
   ]
  },
  {
   "cell_type": "code",
   "execution_count": 203,
   "metadata": {},
   "outputs": [],
   "source": [
    "df_clean['tusk'] = df_clean['clean'].apply(lambda x: tusk(x))"
   ]
  },
  {
   "cell_type": "code",
   "execution_count": 204,
   "metadata": {},
   "outputs": [],
   "source": [
    "df_clean['tusk_emo']=df_clean['tusk']*df_clean['compound']"
   ]
  },
  {
   "cell_type": "code",
   "execution_count": 205,
   "metadata": {},
   "outputs": [],
   "source": [
    "df_clean['kaczynski'] = df_clean['clean'].apply(lambda x: kaczynski(x))\n",
    "df_clean['kaczynski_emo']=df_clean['kaczynski']*df_clean['compound']"
   ]
  },
  {
   "cell_type": "code",
   "execution_count": 206,
   "metadata": {},
   "outputs": [],
   "source": [
    "df_clean['pis'] = df_clean['clean'].apply(lambda x: pis(x))\n",
    "df_clean['pis_emo']=df_clean['pis']*df_clean['compound']"
   ]
  },
  {
   "cell_type": "code",
   "execution_count": 207,
   "metadata": {},
   "outputs": [],
   "source": [
    "df_clean['po'] = df_clean['clean'].apply(lambda x: po(x))\n",
    "df_clean['po_emo']=df_clean['po']*df_clean['compound']"
   ]
  },
  {
   "cell_type": "code",
   "execution_count": 208,
   "metadata": {},
   "outputs": [],
   "source": [
    "df_clean['confederation'] = df_clean['clean'].apply(lambda x: confederation(x))\n",
    "df_clean['confederation_emo']=df_clean['confederation']*df_clean['compound']"
   ]
  },
  {
   "cell_type": "code",
   "execution_count": 209,
   "metadata": {},
   "outputs": [],
   "source": [
    "df_clean['korwin'] = df_clean['clean'].apply(lambda x: korwin(x))\n",
    "df_clean['korwin_emo']=df_clean['korwin']*df_clean['compound']"
   ]
  },
  {
   "cell_type": "code",
   "execution_count": 210,
   "metadata": {},
   "outputs": [
    {
     "name": "stdout",
     "output_type": "stream",
     "text": [
      "-0.2148\n",
      "-3.4827\n",
      "-22.023899999999998\n",
      "-51.6067\n",
      "15.059899999999999\n",
      "0\n"
     ]
    }
   ],
   "source": [
    "print(df_clean['kaczynski_emo'].sum())\n",
    "print(df_clean['tusk_emo'].sum())\n",
    "print(df_clean['pis_emo'].sum())\n",
    "print(df_clean['po_emo'].sum())\n",
    "print(df_clean['confederation_emo'].sum())\n",
    "print(df_clean['korwin'].sum())"
   ]
  },
  {
   "cell_type": "code",
   "execution_count": 197,
   "metadata": {},
   "outputs": [
    {
     "data": {
      "text/html": [
       "<div>\n",
       "<style scoped>\n",
       "    .dataframe tbody tr th:only-of-type {\n",
       "        vertical-align: middle;\n",
       "    }\n",
       "\n",
       "    .dataframe tbody tr th {\n",
       "        vertical-align: top;\n",
       "    }\n",
       "\n",
       "    .dataframe thead th {\n",
       "        text-align: right;\n",
       "    }\n",
       "</style>\n",
       "<table border=\"1\" class=\"dataframe\">\n",
       "  <thead>\n",
       "    <tr style=\"text-align: right;\">\n",
       "      <th></th>\n",
       "      <th>0</th>\n",
       "      <th>sent</th>\n",
       "      <th>neg</th>\n",
       "      <th>pos</th>\n",
       "      <th>compound</th>\n",
       "      <th>clean</th>\n",
       "      <th>tusk</th>\n",
       "      <th>tusk_emo</th>\n",
       "      <th>kaczynski</th>\n",
       "      <th>kaczynski_emo</th>\n",
       "      <th>pis</th>\n",
       "      <th>pis_emo</th>\n",
       "      <th>po</th>\n",
       "      <th>po_emo</th>\n",
       "      <th>confederation</th>\n",
       "      <th>confederation_emo</th>\n",
       "      <th>korwin</th>\n",
       "      <th>korwin_emo</th>\n",
       "    </tr>\n",
       "  </thead>\n",
       "  <tbody>\n",
       "    <tr>\n",
       "      <th>533</th>\n",
       "      <td>the newspaper reported.\\n\\nSEE: Szumowski on ...</td>\n",
       "      <td>{'neg': 0.0, 'neu': 1.0, 'pos': 0.0, 'compound...</td>\n",
       "      <td>0.000</td>\n",
       "      <td>0.000</td>\n",
       "      <td>0.0000</td>\n",
       "      <td>the newspaper reported.\\n\\nSEE: Szumowski on ...</td>\n",
       "      <td>1</td>\n",
       "      <td>0.0000</td>\n",
       "      <td>0</td>\n",
       "      <td>0.0</td>\n",
       "      <td>0</td>\n",
       "      <td>0.0</td>\n",
       "      <td>1</td>\n",
       "      <td>0.0000</td>\n",
       "      <td>0</td>\n",
       "      <td>0.0</td>\n",
       "      <td>0</td>\n",
       "      <td>0.0</td>\n",
       "    </tr>\n",
       "    <tr>\n",
       "      <th>1281</th>\n",
       "      <td>ProteGO Safe starts to monitor the environmen...</td>\n",
       "      <td>{'neg': 0.0, 'neu': 0.954, 'pos': 0.046, 'comp...</td>\n",
       "      <td>0.000</td>\n",
       "      <td>0.046</td>\n",
       "      <td>0.4404</td>\n",
       "      <td>ProteGO Safe starts to monitor the environmen...</td>\n",
       "      <td>1</td>\n",
       "      <td>0.4404</td>\n",
       "      <td>0</td>\n",
       "      <td>0.0</td>\n",
       "      <td>0</td>\n",
       "      <td>0.0</td>\n",
       "      <td>0</td>\n",
       "      <td>0.0000</td>\n",
       "      <td>0</td>\n",
       "      <td>0.0</td>\n",
       "      <td>0</td>\n",
       "      <td>0.0</td>\n",
       "    </tr>\n",
       "    <tr>\n",
       "      <th>3784</th>\n",
       "      <td>he met with ministers Your browser does not s...</td>\n",
       "      <td>{'neg': 0.172, 'neu': 0.828, 'pos': 0.0, 'comp...</td>\n",
       "      <td>0.172</td>\n",
       "      <td>0.000</td>\n",
       "      <td>-0.8384</td>\n",
       "      <td>he met with ministers Your browser does not s...</td>\n",
       "      <td>1</td>\n",
       "      <td>-0.8384</td>\n",
       "      <td>0</td>\n",
       "      <td>-0.0</td>\n",
       "      <td>0</td>\n",
       "      <td>-0.0</td>\n",
       "      <td>1</td>\n",
       "      <td>-0.8384</td>\n",
       "      <td>0</td>\n",
       "      <td>-0.0</td>\n",
       "      <td>0</td>\n",
       "      <td>-0.0</td>\n",
       "    </tr>\n",
       "    <tr>\n",
       "      <th>4836</th>\n",
       "      <td>he would not persuade the staff to protest. -...</td>\n",
       "      <td>{'neg': 0.052, 'neu': 0.838, 'pos': 0.11, 'com...</td>\n",
       "      <td>0.052</td>\n",
       "      <td>0.110</td>\n",
       "      <td>0.2960</td>\n",
       "      <td>he would not persuade the staff to protest. -...</td>\n",
       "      <td>1</td>\n",
       "      <td>0.2960</td>\n",
       "      <td>0</td>\n",
       "      <td>0.0</td>\n",
       "      <td>0</td>\n",
       "      <td>0.0</td>\n",
       "      <td>0</td>\n",
       "      <td>0.0000</td>\n",
       "      <td>0</td>\n",
       "      <td>0.0</td>\n",
       "      <td>0</td>\n",
       "      <td>0.0</td>\n",
       "    </tr>\n",
       "    <tr>\n",
       "      <th>4837</th>\n",
       "      <td>Duda replied: &amp;quot;I think that Donald Tusk ...</td>\n",
       "      <td>{'neg': 0.116, 'neu': 0.884, 'pos': 0.0, 'comp...</td>\n",
       "      <td>0.116</td>\n",
       "      <td>0.000</td>\n",
       "      <td>-0.3612</td>\n",
       "      <td>Duda replied: &amp;quot;I think that Donald Tusk ...</td>\n",
       "      <td>1</td>\n",
       "      <td>-0.3612</td>\n",
       "      <td>0</td>\n",
       "      <td>-0.0</td>\n",
       "      <td>0</td>\n",
       "      <td>-0.0</td>\n",
       "      <td>0</td>\n",
       "      <td>-0.0000</td>\n",
       "      <td>0</td>\n",
       "      <td>-0.0</td>\n",
       "      <td>0</td>\n",
       "      <td>-0.0</td>\n",
       "    </tr>\n",
       "    <tr>\n",
       "      <th>...</th>\n",
       "      <td>...</td>\n",
       "      <td>...</td>\n",
       "      <td>...</td>\n",
       "      <td>...</td>\n",
       "      <td>...</td>\n",
       "      <td>...</td>\n",
       "      <td>...</td>\n",
       "      <td>...</td>\n",
       "      <td>...</td>\n",
       "      <td>...</td>\n",
       "      <td>...</td>\n",
       "      <td>...</td>\n",
       "      <td>...</td>\n",
       "      <td>...</td>\n",
       "      <td>...</td>\n",
       "      <td>...</td>\n",
       "      <td>...</td>\n",
       "      <td>...</td>\n",
       "    </tr>\n",
       "    <tr>\n",
       "      <th>37141</th>\n",
       "      <td>&amp;quot; former Prime Minister Donald Tusk wrote...</td>\n",
       "      <td>{'neg': 0.102, 'neu': 0.813, 'pos': 0.085, 'co...</td>\n",
       "      <td>0.102</td>\n",
       "      <td>0.085</td>\n",
       "      <td>-0.1027</td>\n",
       "      <td>&amp;quot; former Prime Minister Donald Tusk wrote...</td>\n",
       "      <td>1</td>\n",
       "      <td>-0.1027</td>\n",
       "      <td>0</td>\n",
       "      <td>-0.0</td>\n",
       "      <td>0</td>\n",
       "      <td>-0.0</td>\n",
       "      <td>1</td>\n",
       "      <td>-0.1027</td>\n",
       "      <td>0</td>\n",
       "      <td>-0.0</td>\n",
       "      <td>0</td>\n",
       "      <td>-0.0</td>\n",
       "    </tr>\n",
       "    <tr>\n",
       "      <th>37149</th>\n",
       "      <td>Donald Tusk.\\n\\nMorawiecki announces a veto a...</td>\n",
       "      <td>{'neg': 0.0, 'neu': 1.0, 'pos': 0.0, 'compound...</td>\n",
       "      <td>0.000</td>\n",
       "      <td>0.000</td>\n",
       "      <td>0.0000</td>\n",
       "      <td>Donald Tusk.\\n\\nMorawiecki announces a veto a...</td>\n",
       "      <td>1</td>\n",
       "      <td>0.0000</td>\n",
       "      <td>0</td>\n",
       "      <td>0.0</td>\n",
       "      <td>0</td>\n",
       "      <td>0.0</td>\n",
       "      <td>0</td>\n",
       "      <td>0.0000</td>\n",
       "      <td>0</td>\n",
       "      <td>0.0</td>\n",
       "      <td>0</td>\n",
       "      <td>0.0</td>\n",
       "    </tr>\n",
       "    <tr>\n",
       "      <th>37150</th>\n",
       "      <td>of which Poland is the greatest beneficiary. ...</td>\n",
       "      <td>{'neg': 0.0, 'neu': 0.687, 'pos': 0.313, 'comp...</td>\n",
       "      <td>0.000</td>\n",
       "      <td>0.313</td>\n",
       "      <td>0.8074</td>\n",
       "      <td>of which Poland is the greatest beneficiary. ...</td>\n",
       "      <td>1</td>\n",
       "      <td>0.8074</td>\n",
       "      <td>0</td>\n",
       "      <td>0.0</td>\n",
       "      <td>0</td>\n",
       "      <td>0.0</td>\n",
       "      <td>1</td>\n",
       "      <td>0.8074</td>\n",
       "      <td>0</td>\n",
       "      <td>0.0</td>\n",
       "      <td>0</td>\n",
       "      <td>0.0</td>\n",
       "    </tr>\n",
       "    <tr>\n",
       "      <th>37902</th>\n",
       "      <td>the European Commission supports the agreemen...</td>\n",
       "      <td>{'neg': 0.0, 'neu': 0.851, 'pos': 0.149, 'comp...</td>\n",
       "      <td>0.000</td>\n",
       "      <td>0.149</td>\n",
       "      <td>0.7845</td>\n",
       "      <td>the European Commission supports the agreemen...</td>\n",
       "      <td>1</td>\n",
       "      <td>0.7845</td>\n",
       "      <td>0</td>\n",
       "      <td>0.0</td>\n",
       "      <td>0</td>\n",
       "      <td>0.0</td>\n",
       "      <td>1</td>\n",
       "      <td>0.7845</td>\n",
       "      <td>0</td>\n",
       "      <td>0.0</td>\n",
       "      <td>0</td>\n",
       "      <td>0.0</td>\n",
       "    </tr>\n",
       "    <tr>\n",
       "      <th>38289</th>\n",
       "      <td>polsatnews.pl learned unofficially.\\n\\nSEE: U...</td>\n",
       "      <td>{'neg': 0.0, 'neu': 1.0, 'pos': 0.0, 'compound...</td>\n",
       "      <td>0.000</td>\n",
       "      <td>0.000</td>\n",
       "      <td>0.0000</td>\n",
       "      <td>polsatnews.pl learned unofficially.\\n\\nSEE: U...</td>\n",
       "      <td>1</td>\n",
       "      <td>0.0000</td>\n",
       "      <td>0</td>\n",
       "      <td>0.0</td>\n",
       "      <td>0</td>\n",
       "      <td>0.0</td>\n",
       "      <td>1</td>\n",
       "      <td>0.0000</td>\n",
       "      <td>0</td>\n",
       "      <td>0.0</td>\n",
       "      <td>0</td>\n",
       "      <td>0.0</td>\n",
       "    </tr>\n",
       "  </tbody>\n",
       "</table>\n",
       "<p>105 rows × 18 columns</p>\n",
       "</div>"
      ],
      "text/plain": [
       "                                                       0  \\\n",
       "533     the newspaper reported.\\n\\nSEE: Szumowski on ...   \n",
       "1281    ProteGO Safe starts to monitor the environmen...   \n",
       "3784    he met with ministers Your browser does not s...   \n",
       "4836    he would not persuade the staff to protest. -...   \n",
       "4837    Duda replied: &quot;I think that Donald Tusk ...   \n",
       "...                                                  ...   \n",
       "37141  &quot; former Prime Minister Donald Tusk wrote...   \n",
       "37149   Donald Tusk.\\n\\nMorawiecki announces a veto a...   \n",
       "37150   of which Poland is the greatest beneficiary. ...   \n",
       "37902   the European Commission supports the agreemen...   \n",
       "38289   polsatnews.pl learned unofficially.\\n\\nSEE: U...   \n",
       "\n",
       "                                                    sent    neg    pos  \\\n",
       "533    {'neg': 0.0, 'neu': 1.0, 'pos': 0.0, 'compound...  0.000  0.000   \n",
       "1281   {'neg': 0.0, 'neu': 0.954, 'pos': 0.046, 'comp...  0.000  0.046   \n",
       "3784   {'neg': 0.172, 'neu': 0.828, 'pos': 0.0, 'comp...  0.172  0.000   \n",
       "4836   {'neg': 0.052, 'neu': 0.838, 'pos': 0.11, 'com...  0.052  0.110   \n",
       "4837   {'neg': 0.116, 'neu': 0.884, 'pos': 0.0, 'comp...  0.116  0.000   \n",
       "...                                                  ...    ...    ...   \n",
       "37141  {'neg': 0.102, 'neu': 0.813, 'pos': 0.085, 'co...  0.102  0.085   \n",
       "37149  {'neg': 0.0, 'neu': 1.0, 'pos': 0.0, 'compound...  0.000  0.000   \n",
       "37150  {'neg': 0.0, 'neu': 0.687, 'pos': 0.313, 'comp...  0.000  0.313   \n",
       "37902  {'neg': 0.0, 'neu': 0.851, 'pos': 0.149, 'comp...  0.000  0.149   \n",
       "38289  {'neg': 0.0, 'neu': 1.0, 'pos': 0.0, 'compound...  0.000  0.000   \n",
       "\n",
       "       compound                                              clean  tusk  \\\n",
       "533      0.0000   the newspaper reported.\\n\\nSEE: Szumowski on ...     1   \n",
       "1281     0.4404   ProteGO Safe starts to monitor the environmen...     1   \n",
       "3784    -0.8384   he met with ministers Your browser does not s...     1   \n",
       "4836     0.2960   he would not persuade the staff to protest. -...     1   \n",
       "4837    -0.3612   Duda replied: &quot;I think that Donald Tusk ...     1   \n",
       "...         ...                                                ...   ...   \n",
       "37141   -0.1027  &quot; former Prime Minister Donald Tusk wrote...     1   \n",
       "37149    0.0000   Donald Tusk.\\n\\nMorawiecki announces a veto a...     1   \n",
       "37150    0.8074   of which Poland is the greatest beneficiary. ...     1   \n",
       "37902    0.7845   the European Commission supports the agreemen...     1   \n",
       "38289    0.0000   polsatnews.pl learned unofficially.\\n\\nSEE: U...     1   \n",
       "\n",
       "       tusk_emo  kaczynski  kaczynski_emo  pis  pis_emo  po  po_emo  \\\n",
       "533      0.0000          0            0.0    0      0.0   1  0.0000   \n",
       "1281     0.4404          0            0.0    0      0.0   0  0.0000   \n",
       "3784    -0.8384          0           -0.0    0     -0.0   1 -0.8384   \n",
       "4836     0.2960          0            0.0    0      0.0   0  0.0000   \n",
       "4837    -0.3612          0           -0.0    0     -0.0   0 -0.0000   \n",
       "...         ...        ...            ...  ...      ...  ..     ...   \n",
       "37141   -0.1027          0           -0.0    0     -0.0   1 -0.1027   \n",
       "37149    0.0000          0            0.0    0      0.0   0  0.0000   \n",
       "37150    0.8074          0            0.0    0      0.0   1  0.8074   \n",
       "37902    0.7845          0            0.0    0      0.0   1  0.7845   \n",
       "38289    0.0000          0            0.0    0      0.0   1  0.0000   \n",
       "\n",
       "       confederation  confederation_emo  korwin  korwin_emo  \n",
       "533                0                0.0       0         0.0  \n",
       "1281               0                0.0       0         0.0  \n",
       "3784               0               -0.0       0        -0.0  \n",
       "4836               0                0.0       0         0.0  \n",
       "4837               0               -0.0       0        -0.0  \n",
       "...              ...                ...     ...         ...  \n",
       "37141              0               -0.0       0        -0.0  \n",
       "37149              0                0.0       0         0.0  \n",
       "37150              0                0.0       0         0.0  \n",
       "37902              0                0.0       0         0.0  \n",
       "38289              0                0.0       0         0.0  \n",
       "\n",
       "[105 rows x 18 columns]"
      ]
     },
     "execution_count": 197,
     "metadata": {},
     "output_type": "execute_result"
    }
   ],
   "source": [
    "df_clean[df_clean['tusk']==1]"
   ]
  },
  {
   "cell_type": "code",
   "execution_count": 201,
   "metadata": {},
   "outputs": [
    {
     "data": {
      "text/plain": [
       "' Duda replied: &quot;I think that Donald Tusk has been fighting for Rafał Trzaskowski to become president from the very beginning'"
      ]
     },
     "execution_count": 201,
     "metadata": {},
     "output_type": "execute_result"
    }
   ],
   "source": [
    "df_clean.loc[4837,0]"
   ]
  },
  {
   "cell_type": "code",
   "execution_count": null,
   "metadata": {},
   "outputs": [],
   "source": []
  }
 ],
 "metadata": {
  "kernelspec": {
   "display_name": "Python 3",
   "language": "python",
   "name": "python3"
  },
  "language_info": {
   "codemirror_mode": {
    "name": "ipython",
    "version": 3
   },
   "file_extension": ".py",
   "mimetype": "text/x-python",
   "name": "python",
   "nbconvert_exporter": "python",
   "pygments_lexer": "ipython3",
   "version": "3.8.5"
  }
 },
 "nbformat": 4,
 "nbformat_minor": 2
}
