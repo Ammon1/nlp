{
 "cells": [
  {
   "cell_type": "code",
   "execution_count": 310,
   "metadata": {},
   "outputs": [],
   "source": [
    "import os\n",
    "import pandas as pd\n",
    "import re\n",
    "from time import time  # To time our operations\n",
    "from collections import defaultdict  # For word frequency\n",
    "import spacy  # For preprocessing\n",
    "import en_core_web_lg\n",
    "from gensim.models.phrases import Phrases, Phraser\n",
    "import logging  # Setting up the loggings to monitor gensim\n",
    "logging.basicConfig(format=\"%(levelname)s - %(asctime)s: %(message)s\", datefmt= '%H:%M:%S', level=logging.INFO)\n",
    "\n",
    "import multiprocessing\n",
    "\n",
    "from gensim.models import Word2Vec"
   ]
  },
  {
   "cell_type": "code",
   "execution_count": 311,
   "metadata": {},
   "outputs": [],
   "source": [
    "nlp = en_core_web_lg.load()"
   ]
  },
  {
   "cell_type": "code",
   "execution_count": 312,
   "metadata": {},
   "outputs": [],
   "source": [
    "import matplotlib.pyplot as plt\n",
    "%matplotlib inline\n",
    " \n",
    "import seaborn as sns\n",
    "sns.set_style(\"darkgrid\")\n",
    "\n",
    "from sklearn.decomposition import PCA\n",
    "from sklearn.manifold import TSNE"
   ]
  },
  {
   "cell_type": "code",
   "execution_count": 313,
   "metadata": {},
   "outputs": [
    {
     "name": "stderr",
     "output_type": "stream",
     "text": [
      "[nltk_data] Downloading package vader_lexicon to\n",
      "[nltk_data]     C:\\Users\\Kacper\\AppData\\Roaming\\nltk_data...\n",
      "[nltk_data]   Package vader_lexicon is already up-to-date!\n"
     ]
    },
    {
     "data": {
      "text/plain": [
       "True"
      ]
     },
     "execution_count": 313,
     "metadata": {},
     "output_type": "execute_result"
    }
   ],
   "source": [
    "import nltk\n",
    "nltk.download('vader_lexicon')"
   ]
  },
  {
   "cell_type": "code",
   "execution_count": 314,
   "metadata": {},
   "outputs": [],
   "source": [
    "from nltk.sentiment.vader import SentimentIntensityAnalyzer"
   ]
  },
  {
   "cell_type": "code",
   "execution_count": 315,
   "metadata": {},
   "outputs": [],
   "source": [
    "sid=SentimentIntensityAnalyzer()"
   ]
  },
  {
   "cell_type": "code",
   "execution_count": 316,
   "metadata": {},
   "outputs": [],
   "source": [
    "def cleaning(doc):\n",
    "    txt = [token.lemma_ for token in doc if not token.is_stop]\n",
    "    if len(txt) > 2:\n",
    "        return ' '.join(txt)"
   ]
  },
  {
   "cell_type": "code",
   "execution_count": 317,
   "metadata": {},
   "outputs": [],
   "source": [
    "df=pd.DataFrame() #reset\n",
    "df_clean=pd.DataFrame() #reset"
   ]
  },
  {
   "cell_type": "code",
   "execution_count": 318,
   "metadata": {},
   "outputs": [],
   "source": [
    "from itertools import chain "
   ]
  },
  {
   "cell_type": "code",
   "execution_count": 348,
   "metadata": {},
   "outputs": [],
   "source": [
    "file=open('text_polsat.txt','r')\n",
    "content =file.read()\n",
    "content_list = content.split(\"- \")\n",
    "cont_list=[]\n",
    "for cont in content_list:\n",
    "    cont_list.append(cont.split(\"\\n\\n\"))\n",
    "\n",
    "flat_list = list(chain.from_iterable(cont_list))\n",
    "\n",
    "flat_list=[txt.lower().replace(\" po \", \" civic_platform \") for txt in flat_list]\n",
    "\n",
    "file.close()\n",
    "\n",
    "df=pd.DataFrame(flat_list)\n",
    "#brief_cleaning = (re.sub(\"[^A-Za-z']+\", ' ', str(row)).lower() for row in df[0])\n",
    "\n",
    "#t = time()\n",
    "#txt = [cleaning(doc) for doc in nlp.pipe(brief_cleaning, batch_size=5000, n_threads=-1)]\n",
    "#print('Time to clean up everything: {} mins'.format(round((time() - t) / 60, 2)))\n",
    "\n",
    "#df_clean = pd.DataFrame({'clean': txt})\n",
    "#df_clean = df_clean.dropna().drop_duplicates()"
   ]
  },
  {
   "cell_type": "code",
   "execution_count": 349,
   "metadata": {},
   "outputs": [
    {
     "data": {
      "text/plain": [
       "'on friday, the sejm voted on nine senate amendments to the law on the solidarity allowance granted to counteract the negative effects of covid-19. president andrzej duda submitted the bill to the sejm.'"
      ]
     },
     "execution_count": 349,
     "metadata": {},
     "output_type": "execute_result"
    }
   ],
   "source": [
    "flat_list[534]"
   ]
  },
  {
   "cell_type": "code",
   "execution_count": 350,
   "metadata": {},
   "outputs": [],
   "source": [
    "df_clean = df.dropna().drop_duplicates()\n",
    "df_clean['sent']=df_clean.apply(lambda x: sent(x),axis=1)\n",
    "df_clean['clean']=df_clean[0]"
   ]
  },
  {
   "cell_type": "code",
   "execution_count": 351,
   "metadata": {},
   "outputs": [],
   "source": [
    "def sent(x):\n",
    "    return sid.polarity_scores(x.iloc[0])\n",
    "\n",
    "def tusk(x):\n",
    "    if ' tusk ' in x.lower():\n",
    "        return 1\n",
    "    else:\n",
    "        return 0\n",
    "    \n",
    "def kaczynski(x):\n",
    "    if ' kaczynski ' in x.lower() or ' kaczy_ski ' in x.lower():\n",
    "        return 1\n",
    "    else:\n",
    "        return 0\n",
    "    \n",
    "def pis(x):\n",
    "    if ' law_justice ' in x.lower() or ' pis ' in x.lower():\n",
    "        return 1\n",
    "    else:\n",
    "        return 0\n",
    "    \n",
    "def po(x):\n",
    "    if ' civic_platform ' in x.lower():\n",
    "        return 1\n",
    "    else:\n",
    "        return 0\n",
    "    \n",
    "def confederation(x):\n",
    "    if ' confederation ' in x.lower():\n",
    "        return 1\n",
    "    else:\n",
    "        return 0\n",
    "    "
   ]
  },
  {
   "cell_type": "code",
   "execution_count": 352,
   "metadata": {},
   "outputs": [],
   "source": [
    "def korwin(x):\n",
    "    if 'korwin' in x.lower():\n",
    "        return 1\n",
    "    else:\n",
    "        return 0"
   ]
  },
  {
   "cell_type": "code",
   "execution_count": 353,
   "metadata": {},
   "outputs": [],
   "source": [
    "df_clean['sent']=df_clean.apply(lambda x: sent(x),axis=1)"
   ]
  },
  {
   "cell_type": "code",
   "execution_count": 354,
   "metadata": {},
   "outputs": [],
   "source": [
    "df_clean['neg'] = df_clean['sent'].apply(lambda x: x.get('neg'))\n",
    "df_clean['pos'] = df_clean['sent'].apply(lambda x: x.get('pos'))\n",
    "df_clean['compound'] = df_clean['sent'].apply(lambda x: x.get('compound'))"
   ]
  },
  {
   "cell_type": "code",
   "execution_count": 355,
   "metadata": {},
   "outputs": [],
   "source": [
    "df_clean['tusk'] = df_clean['clean'].apply(lambda x: tusk(x))\n",
    "df_clean['tusk_emo']=df_clean['tusk']*df_clean['compound']\n",
    "df_clean['kaczynski'] = df_clean['clean'].apply(lambda x: kaczynski(x))\n",
    "df_clean['kaczynski_emo']=df_clean['kaczynski']*df_clean['compound']\n",
    "df_clean['pis'] = df_clean['clean'].apply(lambda x: pis(x))\n",
    "df_clean['pis_emo']=df_clean['pis']*df_clean['compound']\n",
    "df_clean['po'] = df_clean['clean'].apply(lambda x: po(x))\n",
    "df_clean['po_emo']=df_clean['po']*df_clean['compound']\n",
    "df_clean['confederation'] = df_clean['clean'].apply(lambda x: confederation(x))\n",
    "df_clean['confederation_emo']=df_clean['confederation']*df_clean['compound']\n",
    "df_clean['korwin'] = df_clean['clean'].apply(lambda x: korwin(x))\n",
    "df_clean['korwin_emo']=df_clean['korwin']*df_clean['compound']"
   ]
  },
  {
   "cell_type": "code",
   "execution_count": 356,
   "metadata": {},
   "outputs": [
    {
     "name": "stdout",
     "output_type": "stream",
     "text": [
      "0.9728999999999999\n",
      "-6.741900000000001\n",
      "0.7028000000000025\n",
      "12.9367\n",
      "8.4462\n",
      "-3.1227\n"
     ]
    }
   ],
   "source": [
    "print(df_clean['kaczynski_emo'].sum())\n",
    "print(df_clean['tusk_emo'].sum())\n",
    "print(df_clean['pis_emo'].sum())\n",
    "print(df_clean['po_emo'].sum())\n",
    "print(df_clean['confederation_emo'].sum())\n",
    "print(df_clean['korwin_emo'].sum())"
   ]
  },
  {
   "cell_type": "code",
   "execution_count": 343,
   "metadata": {},
   "outputs": [
    {
     "data": {
      "text/html": [
       "<div>\n",
       "<style scoped>\n",
       "    .dataframe tbody tr th:only-of-type {\n",
       "        vertical-align: middle;\n",
       "    }\n",
       "\n",
       "    .dataframe tbody tr th {\n",
       "        vertical-align: top;\n",
       "    }\n",
       "\n",
       "    .dataframe thead th {\n",
       "        text-align: right;\n",
       "    }\n",
       "</style>\n",
       "<table border=\"1\" class=\"dataframe\">\n",
       "  <thead>\n",
       "    <tr style=\"text-align: right;\">\n",
       "      <th></th>\n",
       "      <th>clean</th>\n",
       "      <th>compound</th>\n",
       "      <th>pos</th>\n",
       "      <th>neg</th>\n",
       "    </tr>\n",
       "  </thead>\n",
       "  <tbody>\n",
       "    <tr>\n",
       "      <th>654</th>\n",
       "      <td>participated in the zn. the polish coalition c...</td>\n",
       "      <td>0.8313</td>\n",
       "      <td>0.028</td>\n",
       "      <td>0.011</td>\n",
       "    </tr>\n",
       "    <tr>\n",
       "      <th>761</th>\n",
       "      <td>janusz korwin-mikke said that it was a &amp;quot;d...</td>\n",
       "      <td>0.0000</td>\n",
       "      <td>0.000</td>\n",
       "      <td>0.000</td>\n",
       "    </tr>\n",
       "    <tr>\n",
       "      <th>767</th>\n",
       "      <td>he added\\n\\nvideo: see the interview in the &amp;q...</td>\n",
       "      <td>0.4939</td>\n",
       "      <td>0.110</td>\n",
       "      <td>0.000</td>\n",
       "    </tr>\n",
       "    <tr>\n",
       "      <th>1335</th>\n",
       "      <td>added radosław ślusarczyk from the pracownia n...</td>\n",
       "      <td>-0.0772</td>\n",
       "      <td>0.033</td>\n",
       "      <td>0.041</td>\n",
       "    </tr>\n",
       "    <tr>\n",
       "      <th>1419</th>\n",
       "      <td>emphasized kołodziejczak during the tuesday pr...</td>\n",
       "      <td>-0.4657</td>\n",
       "      <td>0.063</td>\n",
       "      <td>0.073</td>\n",
       "    </tr>\n",
       "    <tr>\n",
       "      <th>2335</th>\n",
       "      <td>terlecki said\\n\\nhe stated that the amendment ...</td>\n",
       "      <td>-0.8779</td>\n",
       "      <td>0.047</td>\n",
       "      <td>0.127</td>\n",
       "    </tr>\n",
       "    <tr>\n",
       "      <th>2855</th>\n",
       "      <td>reported janusz korwin-mikke, who was an advis...</td>\n",
       "      <td>-0.8934</td>\n",
       "      <td>0.044</td>\n",
       "      <td>0.156</td>\n",
       "    </tr>\n",
       "    <tr>\n",
       "      <th>3175</th>\n",
       "      <td>said janusz korwin-mikke, who has been shockin...</td>\n",
       "      <td>-0.7964</td>\n",
       "      <td>0.000</td>\n",
       "      <td>0.172</td>\n",
       "    </tr>\n",
       "    <tr>\n",
       "      <th>3179</th>\n",
       "      <td>said korwin-mikke.\\n\\nsee: braun delayed the p...</td>\n",
       "      <td>0.2960</td>\n",
       "      <td>0.086</td>\n",
       "      <td>0.053</td>\n",
       "    </tr>\n",
       "    <tr>\n",
       "      <th>3183</th>\n",
       "      <td>he said.\\n\\nvideo: korwin-mikke reveals shocki...</td>\n",
       "      <td>-0.7640</td>\n",
       "      <td>0.000</td>\n",
       "      <td>0.202</td>\n",
       "    </tr>\n",
       "    <tr>\n",
       "      <th>3188</th>\n",
       "      <td>agnieszka gozdyra asked the audience. &amp;quot;yo...</td>\n",
       "      <td>0.0000</td>\n",
       "      <td>0.000</td>\n",
       "      <td>0.000</td>\n",
       "    </tr>\n",
       "    <tr>\n",
       "      <th>3189</th>\n",
       "      <td>no\\n\\n&amp;quot;you must have fallen on your head&amp;...</td>\n",
       "      <td>-0.7351</td>\n",
       "      <td>0.000</td>\n",
       "      <td>0.133</td>\n",
       "    </tr>\n",
       "    <tr>\n",
       "      <th>3192</th>\n",
       "      <td>said korwin-mikke.\\n\\n&amp;quot;we live in the age...</td>\n",
       "      <td>-0.6705</td>\n",
       "      <td>0.000</td>\n",
       "      <td>0.257</td>\n",
       "    </tr>\n",
       "    <tr>\n",
       "      <th>3194</th>\n",
       "      <td>explained the confederation mp. however, he di...</td>\n",
       "      <td>-0.6597</td>\n",
       "      <td>0.044</td>\n",
       "      <td>0.087</td>\n",
       "    </tr>\n",
       "    <tr>\n",
       "      <th>3195</th>\n",
       "      <td>and after such a lesson, she would lose her ab...</td>\n",
       "      <td>0.3818</td>\n",
       "      <td>0.214</td>\n",
       "      <td>0.161</td>\n",
       "    </tr>\n",
       "    <tr>\n",
       "      <th>3196</th>\n",
       "      <td>piekarska in &amp;quot;polityka na ostro&amp;quot;\\n\\n...</td>\n",
       "      <td>0.4404</td>\n",
       "      <td>0.121</td>\n",
       "      <td>0.000</td>\n",
       "    </tr>\n",
       "    <tr>\n",
       "      <th>3881</th>\n",
       "      <td>assessed in turn the chairman of opzzrior, sła...</td>\n",
       "      <td>-0.9787</td>\n",
       "      <td>0.036</td>\n",
       "      <td>0.109</td>\n",
       "    </tr>\n",
       "    <tr>\n",
       "      <th>5129</th>\n",
       "      <td>the marshal of the sejm and the deputies gathe...</td>\n",
       "      <td>0.1436</td>\n",
       "      <td>0.083</td>\n",
       "      <td>0.086</td>\n",
       "    </tr>\n",
       "    <tr>\n",
       "      <th>5185</th>\n",
       "      <td>took the floor, among others borys budka and w...</td>\n",
       "      <td>0.0000</td>\n",
       "      <td>0.066</td>\n",
       "      <td>0.053</td>\n",
       "    </tr>\n",
       "    <tr>\n",
       "      <th>6720</th>\n",
       "      <td>he added.\\n\\nkorwin-mikke: let&amp;#39;s divide cl...</td>\n",
       "      <td>0.4877</td>\n",
       "      <td>0.053</td>\n",
       "      <td>0.000</td>\n",
       "    </tr>\n",
       "  </tbody>\n",
       "</table>\n",
       "</div>"
      ],
      "text/plain": [
       "                                                  clean  compound    pos  \\\n",
       "654   participated in the zn. the polish coalition c...    0.8313  0.028   \n",
       "761   janusz korwin-mikke said that it was a &quot;d...    0.0000  0.000   \n",
       "767   he added\\n\\nvideo: see the interview in the &q...    0.4939  0.110   \n",
       "1335  added radosław ślusarczyk from the pracownia n...   -0.0772  0.033   \n",
       "1419  emphasized kołodziejczak during the tuesday pr...   -0.4657  0.063   \n",
       "2335  terlecki said\\n\\nhe stated that the amendment ...   -0.8779  0.047   \n",
       "2855  reported janusz korwin-mikke, who was an advis...   -0.8934  0.044   \n",
       "3175  said janusz korwin-mikke, who has been shockin...   -0.7964  0.000   \n",
       "3179  said korwin-mikke.\\n\\nsee: braun delayed the p...    0.2960  0.086   \n",
       "3183  he said.\\n\\nvideo: korwin-mikke reveals shocki...   -0.7640  0.000   \n",
       "3188  agnieszka gozdyra asked the audience. &quot;yo...    0.0000  0.000   \n",
       "3189  no\\n\\n&quot;you must have fallen on your head&...   -0.7351  0.000   \n",
       "3192  said korwin-mikke.\\n\\n&quot;we live in the age...   -0.6705  0.000   \n",
       "3194  explained the confederation mp. however, he di...   -0.6597  0.044   \n",
       "3195  and after such a lesson, she would lose her ab...    0.3818  0.214   \n",
       "3196  piekarska in &quot;polityka na ostro&quot;\\n\\n...    0.4404  0.121   \n",
       "3881  assessed in turn the chairman of opzzrior, sła...   -0.9787  0.036   \n",
       "5129  the marshal of the sejm and the deputies gathe...    0.1436  0.083   \n",
       "5185  took the floor, among others borys budka and w...    0.0000  0.066   \n",
       "6720  he added.\\n\\nkorwin-mikke: let&#39;s divide cl...    0.4877  0.053   \n",
       "\n",
       "        neg  \n",
       "654   0.011  \n",
       "761   0.000  \n",
       "767   0.000  \n",
       "1335  0.041  \n",
       "1419  0.073  \n",
       "2335  0.127  \n",
       "2855  0.156  \n",
       "3175  0.172  \n",
       "3179  0.053  \n",
       "3183  0.202  \n",
       "3188  0.000  \n",
       "3189  0.133  \n",
       "3192  0.257  \n",
       "3194  0.087  \n",
       "3195  0.161  \n",
       "3196  0.000  \n",
       "3881  0.109  \n",
       "5129  0.086  \n",
       "5185  0.053  \n",
       "6720  0.000  "
      ]
     },
     "execution_count": 343,
     "metadata": {},
     "output_type": "execute_result"
    }
   ],
   "source": [
    "df_clean[df_clean['korwin']==1][['clean','compound','pos','neg']].head(20)"
   ]
  },
  {
   "cell_type": "code",
   "execution_count": 344,
   "metadata": {},
   "outputs": [],
   "source": [
    "n=654"
   ]
  },
  {
   "cell_type": "code",
   "execution_count": 345,
   "metadata": {},
   "outputs": [],
   "source": [
    "doc=nlp(df_clean.loc[n,0])"
   ]
  },
  {
   "cell_type": "code",
   "execution_count": 347,
   "metadata": {},
   "outputs": [
    {
     "data": {
      "text/plain": [
       "'participated in the zn. the polish coalition club-psl-kukiz15 club was represented by around 15 mps, including psl president władysław kosiniak-kamysz, paweł kukiz and stanisław tyszka.\\n\\nsee: rainbow flags on the presidential oath. &quot;poland is for everyone&quot;\\n\\nthe head of the sejm circle of the confederation, jakub kulesza, announced that the session of the national assembly would be attended by mps janusz korwin-mikke, krzysztof bosak (former presidential candidate), grzegorz braun, artur dziambor, michał urbaniak, krystian kamiński and krzysztof tuduj.\\n\\nsee: the left mp approached the president. she handed him the letter\\n\\nformer presidents lech wałęsa and bronisław komorowski, former prime ministers ewa kopacz, leszek miller, włodzimierz cimoszewicz and former speaker of the sejm and former head of the ministry of foreign affairs radosław sikorski, former speaker of the sejm and former head of the civic platform grzegorz schetyna, did not take part in the national assembly, and the mayor of warsaw, rafał trzaskowski.\\n\\nformer president aleksander kwaśniewski was present and former prime ministers waldemar pawlak and beata szydło. there were also, among others julia przyłębska, president of the tribunal, and małgorzata manowska, the first president of the supreme court.\\n\\nsee: the green party will not take part in the president&#39;s swearing-in. they wrote an open letter\\n\\ntaking control of the armed forces\\n\\nafter the ceremony in the seym, reports were collected from the commander of the warsaw garrison, maj. gen. robert głąb and the commander of the state protection service, major sop, paweł olszewski. president andrzej duda, on his way from the seym to the presidential palace, stopped in krakowskie przedmieście and laid flowers at the statue of christ at the basilica of st. cross.\\n\\nthen, in the cathedral of st. john the baptist, at noon, mass began. for the fatherland and the president. the mass was presided over, just like five years ago, by stanisław gądecki, chairman of the kep apb.\\n\\nafter the end of the mass the president paid tribute to his deceased predecessors in the office of the president of the republic of poland; laid wreaths and flowers at the places of commemoration of gabriel narutowicz, stanisław wojciechowski, ignacy mościcki and lech kaczyński.\\n\\nafter on 14 at the royal castle, president andrzej duda again took over the presidency in the chapters of the most important polish state decorations '"
      ]
     },
     "execution_count": 347,
     "metadata": {},
     "output_type": "execute_result"
    }
   ],
   "source": [
    "df_clean.loc[n,0]"
   ]
  },
  {
   "cell_type": "code",
   "execution_count": 346,
   "metadata": {},
   "outputs": [
    {
     "name": "stdout",
     "output_type": "stream",
     "text": [
      "participated in the zn. the polish coalition club-psl-kukiz15 club was represented by around 15 mps, including psl president władysław kosiniak-kamysz, paweł kukiz and stanisław tyszka.\n",
      "\n",
      "see: rainbow flags on the presidential oath. &quot;poland is for everyone&quot;\n",
      "\n",
      "the head of the sejm circle of the confederation, jakub kulesza, announced that the session of the national assembly would be attended by mps janusz korwin-mikke, krzysztof bosak (former presidential candidate), grzegorz braun, artur dziambor, michał urbaniak, krystian kamiński and krzysztof tuduj.\n",
      "\n",
      "see: the left mp approached the president. she handed him the letter\n",
      "\n",
      "former presidents lech wałęsa and bronisław komorowski, former prime ministers ewa kopacz, leszek miller, włodzimierz cimoszewicz and former speaker of the sejm and former head of the ministry of foreign affairs radosław sikorski, former speaker of the sejm and former head of the civic platform grzegorz schetyna, did not take part in the national assembly, and the mayor of warsaw, rafał trzaskowski.\n",
      "\n",
      "former president aleksander kwaśniewski was present and former prime ministers waldemar pawlak and beata szydło. there were also, among others julia przyłębska, president of the tribunal, and małgorzata manowska, the first president of the supreme court.\n",
      "\n",
      "see: the green party will not take part in the president&#39;s swearing-in. they wrote an open letter\n",
      "\n",
      "taking control of the armed forces\n",
      "\n",
      "after the ceremony in the seym, reports were collected from the commander of the warsaw garrison, maj. gen. robert głąb and the commander of the state protection service, major sop, paweł olszewski. president andrzej duda, on his way from the seym to the presidential palace, stopped in krakowskie przedmieście and laid flowers at the statue of christ at the basilica of st. cross.\n",
      "\n",
      "then, in the cathedral of st. john the baptist, at noon, mass began. for the fatherland and the president. the mass was presided over, just like five years ago, by stanisław gądecki, chairman of the kep apb.\n",
      "\n",
      "after the end of the mass the president paid tribute to his deceased predecessors in the office of the president of the republic of poland; laid wreaths and flowers at the places of commemoration of gabriel narutowicz, stanisław wojciechowski, ignacy mościcki and lech kaczyński.\n",
      "\n",
      "after on 14 at the royal castle, president andrzej duda again took over the presidency in the chapters of the most important polish state decorations \n",
      "0.8313   0.028   0.011\n"
     ]
    }
   ],
   "source": [
    "print(df_clean.loc[n,0])\n",
    "print(df_clean.loc[n,'compound'],' ',df_clean.loc[n,'pos'],' ',df_clean.loc[n,'neg'])"
   ]
  },
  {
   "cell_type": "code",
   "execution_count": 299,
   "metadata": {},
   "outputs": [
    {
     "name": "stdout",
     "output_type": "stream",
     "text": [
      "on                      85 IN         prep       conjunction, subordinating or preposition\n",
      "the                     90 DT         det        determiner\n",
      "basis                   92 NN         pobj       noun, singular or mass\n",
      "of                      85 IN         prep       conjunction, subordinating or preposition\n",
      "this                    90 DT         det        determiner\n",
      "motion                  92 NN         pobj       noun, singular or mass\n",
      ",                       97 ,          punct      punctuation mark, comma\n",
      "the                     90 DT         det        determiner\n",
      "civic_platform          96 NNP        nsubj      noun, proper singular\n",
      "wants                  100 VBZ        ROOT       verb, 3rd person singular present\n",
      "to                      94 TO         aux        infinitival \"to\"\n",
      "recall                 100 VB         xcomp      verb, base form\n",
      "jarosław                96 NNP        dobj       noun, proper singular\n",
      "kaczyński               96 NNP        dobj       noun, proper singular\n",
      "only                    86 RB         advmod     adverb\n",
      "because                 98 IN         mark       conjunction, subordinating or preposition\n",
      "it                      95 PRP        nsubj      pronoun, personal\n",
      "cares                  100 VBZ        advcl      verb, 3rd person singular present\n",
      "about                   85 IN         prep       conjunction, subordinating or preposition\n",
      "the                     90 DT         det        determiner\n",
      "safety                  92 NN         pobj       noun, singular or mass\n",
      "of                      85 IN         prep       conjunction, subordinating or preposition\n",
      "poles                   92 NNS        pobj       noun, plural\n"
     ]
    }
   ],
   "source": [
    "for token in doc:\n",
    "    print(f\"{token.text:15} {token.pos:10} {token.tag_:10} {token.dep_:10} {spacy.explain(token.tag_)}\")"
   ]
  },
  {
   "cell_type": "code",
   "execution_count": null,
   "metadata": {},
   "outputs": [],
   "source": [
    "sid.polarity_scores('mary loves john')"
   ]
  },
  {
   "cell_type": "code",
   "execution_count": 288,
   "metadata": {},
   "outputs": [],
   "source": [
    "doc1=nlp('mary loves john')"
   ]
  },
  {
   "cell_type": "code",
   "execution_count": 289,
   "metadata": {},
   "outputs": [],
   "source": [
    "doc2=nlp('john is loved by mary')"
   ]
  },
  {
   "cell_type": "code",
   "execution_count": 290,
   "metadata": {},
   "outputs": [
    {
     "name": "stdout",
     "output_type": "stream",
     "text": [
      "mary                    96 NNP        nsubj      noun, proper singular\n",
      "loves                  100 VBZ        ROOT       verb, 3rd person singular present\n",
      "john                    96 NNP        dobj       noun, proper singular\n"
     ]
    }
   ],
   "source": [
    "for token in doc1:\n",
    "    print(f\"{token.text:15} {token.pos:10} {token.tag_:10} {token.dep_:10} {spacy.explain(token.tag_)}\")"
   ]
  },
  {
   "cell_type": "code",
   "execution_count": 291,
   "metadata": {},
   "outputs": [
    {
     "name": "stdout",
     "output_type": "stream",
     "text": [
      "john                    96 NNP        nsubjpass  noun, proper singular\n",
      "is                      87 VBZ        auxpass    verb, 3rd person singular present\n",
      "loved                  100 VBN        ROOT       verb, past participle\n",
      "by                      85 IN         agent      conjunction, subordinating or preposition\n",
      "mary                    96 NNP        pobj       noun, proper singular\n"
     ]
    }
   ],
   "source": [
    "for token in doc2:\n",
    "    print(f\"{token.text:15} {token.pos:10} {token.tag_:10} {token.dep_:10} {spacy.explain(token.tag_)}\")"
   ]
  },
  {
   "cell_type": "code",
   "execution_count": null,
   "metadata": {},
   "outputs": [],
   "source": []
  }
 ],
 "metadata": {
  "kernelspec": {
   "display_name": "Python 3",
   "language": "python",
   "name": "python3"
  },
  "language_info": {
   "codemirror_mode": {
    "name": "ipython",
    "version": 3
   },
   "file_extension": ".py",
   "mimetype": "text/x-python",
   "name": "python",
   "nbconvert_exporter": "python",
   "pygments_lexer": "ipython3",
   "version": "3.7.3"
  }
 },
 "nbformat": 4,
 "nbformat_minor": 2
}
